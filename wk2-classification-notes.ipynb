{
 "cells": [
  {
   "attachments": {
    "Confusion-Matrix-between-cluster-labels-TP-true-positive-FP-false-positive-TN-true.png": {
     "image/png": "[encoded data removed]"
    }
   },
   "cell_type": "markdown",
   "id": "eb63a74e",
   "metadata": {},
   "source": [
    "# Week 3: Classification\n",
    "Date: 2022/3/19\n",
    "\n",
    "## Intelligent restaurant review system\n",
    "- All reviews for restaurants\n",
    "- Break all reviews into sentences\n",
    "- Select sentences about \"sushi\"\n",
    "- Sentence Sentiment Classifier\n",
    "- Average predictions\n",
    "\n",
    "## Linear Classifiers\n",
    "\n",
    "#### Count positive and negative words in sentence\n",
    "List of positive words: great, awesome, good, amazing, etc. List of negative words: terrible, bad, etc.\n",
    "\n",
    "If there are more positive words in the sentence, the sentence is classified as positive.\n",
    "\n",
    "#### Problems with threshold classifier\n",
    "- How do we get list of positive/negative words?\n",
    "- Words have different degrees of sentiment: great > good; what about weights for other words?\n",
    "- Single words are not enough: \"not good\" is negative\n",
    "\n",
    "#### Decision boundaries\n",
    "One line separates positive sentences from negative sentences. This line is the decision boundary.\n",
    "\n",
    "For linear classifiers:\n",
    "- When 2 weights are non-zero -> line\n",
    "- When 3 weights are non-zero -> plane\n",
    "- When many weights are non-zero -> hyperplane\n",
    "\n",
    "For more general classifiers:\n",
    "- More complicated shapes\n",
    "\n",
    "## Evaluating Classification Models\n",
    "Count correct predictions and wrong predictions. Do this for every sentence in the corpus.\n",
    "\n",
    "Error measures fraction of mistakes. **Error = # of mistakes / Total # of sentences**\n",
    "\n",
    "The best possible value for error is 0.\n",
    "\n",
    "We also measure accuracy, the fraction of correct predictions. **Accuracy = # of correct predictions / Total # of sentences**\n",
    "\n",
    "The best possible value for accuracy is 1.0.\n",
    "\n",
    "#### What's a good accuracy?\n",
    "**Random Guessing**: What if we ignore the sentence and just guess? For binary classification, half the time, we'll get it right. For *k* classes, accuracy = 1/*k*.\n",
    "\n",
    "**Class Imbalance**: one class can be much more common than the other.\n",
    "\n",
    "### Types of Mistakes\n",
    "\n",
    "#### The Confusion Matrix - Binary Classification\n",
    "![Confusion-Matrix-between-cluster-labels-TP-true-positive-FP-false-positive-TN-true.png](attachment:Confusion-Matrix-between-cluster-labels-TP-true-positive-FP-false-positive-TN-true.png)\n",
    "\n",
    "\n",
    "Spam filtering: if false negative, it's annoying; if false positive (not spam but classified as spam), email lost.\n",
    "\n",
    "Medical diagnosis: if false negative, disease not treated; if false positive, wasted treatment.\n",
    "\n",
    "The confusion matrix can be applied to multiclass classification.\n",
    "\n",
    "\n",
    "### How much data does a model need to learn?\n",
    "- The more the merrier\n",
    "  - **Data quality** is most important factor!\n",
    "- Theoretical techniques sometimes can bound how much data is needed\n",
    "  - Typically too loose for practical applidation\n",
    "  - But provide guidance\n",
    "- In practice:\n",
    "  - More complex models require more data\n",
    "  - Empirical analysis can provide guidance\n",
    "  \n",
    "Usually, with more data, test error decreases. However, there's a limit for most models. Even with inifinite data, the test error will not go to zero. There will be bias.\n",
    "\n",
    "\n",
    "### How confident is your prediction?\n",
    "Many classifiers provide a confidence level: **P(y|x)**, where y is output label, x is input sentence. This is extremely important."
   ]
  },
  {
   "cell_type": "markdown",
   "id": "996205ae",
   "metadata": {},
   "source": [
    "# Week 3: Programming Assignment\n",
    "\n"
   ]
  }
 ],
 "metadata": {
  "kernelspec": {
   "display_name": "venv",
   "language": "python",
   "name": "venv"
  },
  "language_info": {
   "codemirror_mode": {
    "name": "ipython",
    "version": 3
   },
   "file_extension": ".py",
   "mimetype": "text/x-python",
   "name": "python",
   "nbconvert_exporter": "python",
   "pygments_lexer": "ipython3",
   "version": "3.9.5"
  }
 },
 "nbformat": 4,
 "nbformat_minor": 5
}
