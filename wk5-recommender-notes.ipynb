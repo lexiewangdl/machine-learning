{
 "cells": [
  {
   "cell_type": "markdown",
   "id": "61cc1b94",
   "metadata": {},
   "source": [
    "# Week 5: Recommender Systems\n",
    "\n",
    "## Normalizing co-occurrence matrices: Similarity matrix\n",
    "**Jaccard similarity**: normalizes by popularity\n",
    "  - Who purchased i and j divided by who purchased i or j\n",
    "  - (# purchased i and j) / (# purchased i or j)\n",
    "- There are many other similarity metrics possible, e.g. cosine similarity\n",
    "\n",
    "##### Limitations\n",
    "- Only current page matters, no history\n",
    "  - Recommend similar items to the one you bought\n",
    "- What if you purchased many items?\n",
    "  - Want recommendations based on purchase history\n",
    "  \n",
    "#### (Weighted) Average of purchased items\n",
    "User bought items {diapers, milk}. We compute user-specific score for each item j in inventory by combining similarities:\n",
    "\n",
    "- *Score(**user**, baby wipes) = 1/2 * (S<sub>baby wipes, diapers</sub> + S<sub>baby wipes, milk</sub>)*\n",
    "\n",
    "Then, we sort *Score(user, j)* and find the item j with highest similarity.\n",
    "\n",
    "##### Limitations\n",
    "- Does not utilize:\n",
    "  - context (e.g. time of the day)\n",
    "  - user features (e.g. age)\n",
    "  - product features (e.g. baby vs. electronics)\n",
    "- Cold start problem\n",
    "  - What if a new user or product arrives?"
   ]
  },
  {
   "cell_type": "code",
   "execution_count": null,
   "id": "7643fe3e",
   "metadata": {},
   "outputs": [],
   "source": []
  }
 ],
 "metadata": {
  "kernelspec": {
   "display_name": "venv",
   "language": "python",
   "name": "venv"
  },
  "language_info": {
   "codemirror_mode": {
    "name": "ipython",
    "version": 3
   },
   "file_extension": ".py",
   "mimetype": "text/x-python",
   "name": "python",
   "nbconvert_exporter": "python",
   "pygments_lexer": "ipython3",
   "version": "3.9.5"
  }
 },
 "nbformat": 4,
 "nbformat_minor": 5
}
