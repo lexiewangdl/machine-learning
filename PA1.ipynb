{
 "cells": [
  {
   "cell_type": "markdown",
   "id": "654a79b8-8155-45dc-9967-01e586abd1a5",
   "metadata": {},
   "source": [
    "# Programming Assignment 1: Predicting House Prices\n"
   ]
  },
  {
   "cell_type": "code",
   "execution_count": 15,
   "id": "e66b475f-d33a-4aed-9ab6-1fc204717b67",
   "metadata": {
    "scrolled": true
   },
   "outputs": [
    {
     "data": {
      "text/plain": [
       "'1.4.1'"
      ]
     },
     "execution_count": 15,
     "metadata": {},
     "output_type": "execute_result"
    }
   ],
   "source": [
    "import pandas as pd\n",
    "import numpy as np\n",
    "import torch\n",
    "import torch.nn as nn\n",
    "from torch.utils.data import TensorDataset\n",
    "from torch.utils.data import DataLoader\n",
    "from sklearn.model_selection import train_test_split\n",
    "torch.__version__\n",
    "pd.__version__"
   ]
  },
  {
   "cell_type": "markdown",
   "id": "5833a054",
   "metadata": {},
   "source": [
    "#### Read the CSV into a pandas DataFrame\n",
    "\n",
    "Using random_state, with a given DataFrame, the sample will always fetch same rows. If random_state is None or np.random, then a randomly-initialized RandomState object is returned."
   ]
  },
  {
   "cell_type": "code",
   "execution_count": 16,
   "id": "61f6e286",
   "metadata": {},
   "outputs": [
    {
     "data": {
      "text/html": [
       "<div>\n",
       "<style scoped>\n",
       "    .dataframe tbody tr th:only-of-type {\n",
       "        vertical-align: middle;\n",
       "    }\n",
       "\n",
       "    .dataframe tbody tr th {\n",
       "        vertical-align: top;\n",
       "    }\n",
       "\n",
       "    .dataframe thead th {\n",
       "        text-align: right;\n",
       "    }\n",
       "</style>\n",
       "<table border=\"1\" class=\"dataframe\">\n",
       "  <thead>\n",
       "    <tr style=\"text-align: right;\">\n",
       "      <th></th>\n",
       "      <th>id</th>\n",
       "      <th>date</th>\n",
       "      <th>price</th>\n",
       "      <th>bedrooms</th>\n",
       "      <th>bathrooms</th>\n",
       "      <th>sqft_living</th>\n",
       "      <th>sqft_lot</th>\n",
       "      <th>floors</th>\n",
       "      <th>waterfront</th>\n",
       "      <th>view</th>\n",
       "      <th>...</th>\n",
       "      <th>grade</th>\n",
       "      <th>sqft_above</th>\n",
       "      <th>sqft_basement</th>\n",
       "      <th>yr_built</th>\n",
       "      <th>yr_renovated</th>\n",
       "      <th>zipcode</th>\n",
       "      <th>lat</th>\n",
       "      <th>long</th>\n",
       "      <th>sqft_living15</th>\n",
       "      <th>sqft_lot15</th>\n",
       "    </tr>\n",
       "  </thead>\n",
       "  <tbody>\n",
       "    <tr>\n",
       "      <th>17384</th>\n",
       "      <td>1453602313</td>\n",
       "      <td>20141029T000000</td>\n",
       "      <td>297000</td>\n",
       "      <td>2</td>\n",
       "      <td>1.50</td>\n",
       "      <td>1430</td>\n",
       "      <td>1650</td>\n",
       "      <td>3.0</td>\n",
       "      <td>0</td>\n",
       "      <td>0</td>\n",
       "      <td>...</td>\n",
       "      <td>7</td>\n",
       "      <td>1430</td>\n",
       "      <td>0</td>\n",
       "      <td>1999</td>\n",
       "      <td>0</td>\n",
       "      <td>98125</td>\n",
       "      <td>47.7222</td>\n",
       "      <td>-122.290</td>\n",
       "      <td>1430</td>\n",
       "      <td>1650</td>\n",
       "    </tr>\n",
       "    <tr>\n",
       "      <th>722</th>\n",
       "      <td>2225059214</td>\n",
       "      <td>20140808T000000</td>\n",
       "      <td>1578000</td>\n",
       "      <td>4</td>\n",
       "      <td>3.25</td>\n",
       "      <td>4670</td>\n",
       "      <td>51836</td>\n",
       "      <td>2.0</td>\n",
       "      <td>0</td>\n",
       "      <td>0</td>\n",
       "      <td>...</td>\n",
       "      <td>12</td>\n",
       "      <td>4670</td>\n",
       "      <td>0</td>\n",
       "      <td>1988</td>\n",
       "      <td>0</td>\n",
       "      <td>98005</td>\n",
       "      <td>47.6350</td>\n",
       "      <td>-122.164</td>\n",
       "      <td>4230</td>\n",
       "      <td>41075</td>\n",
       "    </tr>\n",
       "    <tr>\n",
       "      <th>2680</th>\n",
       "      <td>2768000270</td>\n",
       "      <td>20140625T000000</td>\n",
       "      <td>562100</td>\n",
       "      <td>2</td>\n",
       "      <td>0.75</td>\n",
       "      <td>1440</td>\n",
       "      <td>3700</td>\n",
       "      <td>1.0</td>\n",
       "      <td>0</td>\n",
       "      <td>0</td>\n",
       "      <td>...</td>\n",
       "      <td>7</td>\n",
       "      <td>1200</td>\n",
       "      <td>240</td>\n",
       "      <td>1914</td>\n",
       "      <td>0</td>\n",
       "      <td>98107</td>\n",
       "      <td>47.6707</td>\n",
       "      <td>-122.364</td>\n",
       "      <td>1440</td>\n",
       "      <td>4300</td>\n",
       "    </tr>\n",
       "  </tbody>\n",
       "</table>\n",
       "<p>3 rows × 21 columns</p>\n",
       "</div>"
      ],
      "text/plain": [
       "               id             date    price  bedrooms  bathrooms  sqft_living  \\\n",
       "17384  1453602313  20141029T000000   297000         2       1.50         1430   \n",
       "722    2225059214  20140808T000000  1578000         4       3.25         4670   \n",
       "2680   2768000270  20140625T000000   562100         2       0.75         1440   \n",
       "\n",
       "       sqft_lot  floors  waterfront  view  ...  grade  sqft_above  \\\n",
       "17384      1650     3.0           0     0  ...      7        1430   \n",
       "722       51836     2.0           0     0  ...     12        4670   \n",
       "2680       3700     1.0           0     0  ...      7        1200   \n",
       "\n",
       "       sqft_basement  yr_built  yr_renovated  zipcode      lat     long  \\\n",
       "17384              0      1999             0    98125  47.7222 -122.290   \n",
       "722                0      1988             0    98005  47.6350 -122.164   \n",
       "2680             240      1914             0    98107  47.6707 -122.364   \n",
       "\n",
       "       sqft_living15  sqft_lot15  \n",
       "17384           1430        1650  \n",
       "722             4230       41075  \n",
       "2680            1440        4300  \n",
       "\n",
       "[3 rows x 21 columns]"
      ]
     },
     "execution_count": 16,
     "metadata": {},
     "output_type": "execute_result"
    }
   ],
   "source": [
    "df = pd.read_csv(\"data/home_data.csv\")\n",
    "# print(df)\n",
    "# print(df['price'][0])\n",
    "df.sample(n=3, random_state=0)"
   ]
  },
  {
   "cell_type": "markdown",
   "id": "950fabb4",
   "metadata": {},
   "source": [
    "#### Splitting the data into training and test sets"
   ]
  },
  {
   "cell_type": "markdown",
   "id": "42cf64d0",
   "metadata": {},
   "source": [
    "Use Scikit Learn's <code>train_test_split</code> to split dataframes.\n",
    "\n",
    "When comparing machine learning algorithms, it's desirable that they are fit and evaluated on the same subsets of the dataset. This can be achieved by setting the <code>random_state</code> to an integer value. For more information, see [Repeatable Train-Test Splits](https://machinelearningmastery.com/train-test-split-for-evaluating-machine-learning-algorithms/)."
   ]
  },
  {
   "cell_type": "code",
   "execution_count": 17,
   "id": "bb57851e",
   "metadata": {},
   "outputs": [
    {
     "data": {
      "text/plain": [
       "pandas.core.frame.DataFrame"
      ]
     },
     "execution_count": 17,
     "metadata": {},
     "output_type": "execute_result"
    }
   ],
   "source": [
    "train, test = train_test_split(df, test_size=0.2, random_state=1)\n",
    "type(train)"
   ]
  },
  {
   "cell_type": "markdown",
   "id": "72679c42",
   "metadata": {},
   "source": [
    "The mean price of our training set."
   ]
  },
  {
   "cell_type": "code",
   "execution_count": 18,
   "id": "e97ce718",
   "metadata": {},
   "outputs": [
    {
     "data": {
      "text/plain": [
       "537880.6155002891"
      ]
     },
     "execution_count": 18,
     "metadata": {},
     "output_type": "execute_result"
    }
   ],
   "source": [
    "train['price'].mean()"
   ]
  },
  {
   "cell_type": "markdown",
   "id": "85ad3955",
   "metadata": {},
   "source": [
    "### Prepare the data\n",
    "We need the data as PyTorch tensors for usage in our model. We will need to convert pandas DataFrame to Numpy Array and them Pytorch Tensor. \n",
    "\n",
    "To convert a Pandas DataFrame to a Numpy Array, use <code>to_numpy()</code>. To convert a Numpy Array to a PyTorch Tensor, use <code>torch.from_numpy()</code>. For more information, see [this page](https://medium.com/@thackerhelik/linear-regression-in-pytorch-3793d89ff3f)."
   ]
  },
  {
   "cell_type": "code",
   "execution_count": 20,
   "id": "96505b14",
   "metadata": {},
   "outputs": [
    {
     "data": {
      "text/plain": [
       "array([[ 353000],\n",
       "       [ 300523],\n",
       "       [ 435000],\n",
       "       ...,\n",
       "       [ 650000],\n",
       "       [ 437000],\n",
       "       [1025000]], dtype=int64)"
      ]
     },
     "execution_count": 20,
     "metadata": {},
     "output_type": "execute_result"
    }
   ],
   "source": [
    "my_features = ['bedrooms', 'bathrooms', 'sqft_living', 'sqft_lot', 'floors', 'zipcode']\n",
    "\n",
    "def df_to_array(dataframe, features, output=['price']):\n",
    "    \"\"\"\n",
    "    Parameters\n",
    "    ----------\n",
    "    dataframe: pandas DataFrame\n",
    "        train or test set\n",
    "    features: list of strings\n",
    "        features used to predict sales price of house\n",
    "    output: list of strings\n",
    "        the observation variable\n",
    "    \"\"\"\n",
    "    df1 = dataframe.copy(deep=True)\n",
    "    inputs_array = df1[features].to_numpy()\n",
    "    targets_array = df1[output].to_numpy()\n",
    "    return inputs_array, targets_array\n",
    "\n",
    "inputs_array, targets_array = df_to_array(train, ['sqft_living'], ['price'])\n",
    "targets_array\n",
    "#inputs.dtype"
   ]
  },
  {
   "cell_type": "code",
   "execution_count": 21,
   "id": "c622661a",
   "metadata": {},
   "outputs": [
    {
     "data": {
      "text/plain": [
       "(tensor([[2190.],\n",
       "         [2370.],\n",
       "         [1230.],\n",
       "         ...,\n",
       "         [1970.],\n",
       "         [1980.],\n",
       "         [3760.]]),\n",
       " tensor([[ 353000.],\n",
       "         [ 300523.],\n",
       "         [ 435000.],\n",
       "         ...,\n",
       "         [ 650000.],\n",
       "         [ 437000.],\n",
       "         [1025000.]]))"
      ]
     },
     "execution_count": 21,
     "metadata": {},
     "output_type": "execute_result"
    }
   ],
   "source": [
    "inputs_train = torch.from_numpy(inputs_array).float()\n",
    "targets_train = torch.from_numpy(targets_array).float()\n",
    "inputs_train, targets_train"
   ]
  },
  {
   "cell_type": "code",
   "execution_count": null,
   "id": "0eb4bc63",
   "metadata": {},
   "outputs": [],
   "source": [
    "dataset = TensorDataset(inputs, targets)\n",
    "train_loader = DataLoader(dataset, batch_size=50, shuffle=False)\n",
    "for xb, yb in train_loader:\n",
    "    print(\"inputs:\", xb)\n",
    "    print(\"targets:\", yb)\n",
    "    break"
   ]
  },
  {
   "cell_type": "code",
   "execution_count": null,
   "id": "97296599",
   "metadata": {},
   "outputs": [],
   "source": [
    "#inputs = torch.from_numpy(train[['sqft_living']].to_numpy()).float() # Must be df[[feature]] to ensure 2D array\n",
    "#inputs\n",
    "#targets = torch.from_numpy(train[['price']].to_numpy()).float()\n",
    "#targets\n",
    "#targets.dtype\n",
    "train[['price']].to_numpy()"
   ]
  },
  {
   "cell_type": "markdown",
   "id": "2735cc0b",
   "metadata": {},
   "source": [
    "### Create a linear regression model\n",
    "#### Define the regression class"
   ]
  },
  {
   "cell_type": "code",
   "execution_count": 7,
   "id": "0f12721c",
   "metadata": {},
   "outputs": [],
   "source": [
    "class LinearRegression(nn.Module):\n",
    "    def __init__(self, input_dim, output_dim):\n",
    "        super(LinearRegression, self).__init__()\n",
    "        self.linear = torch.nn.Linear(input_dim, output_dim, bias=True) # bias default True\n",
    "        \n",
    "    def forward(self, x):\n",
    "        out = self.linear(x)\n",
    "        return out"
   ]
  },
  {
   "cell_type": "markdown",
   "id": "3ed55812",
   "metadata": {},
   "source": [
    "#### Instantiate model"
   ]
  },
  {
   "cell_type": "code",
   "execution_count": 32,
   "id": "aa8700c7",
   "metadata": {},
   "outputs": [],
   "source": [
    "input_dim = 1\n",
    "output_dim = 1\n",
    "model1 = LinearRegression(input_dim, output_dim)"
   ]
  },
  {
   "cell_type": "markdown",
   "id": "b4b478a4",
   "metadata": {},
   "source": [
    "#### Compute RMSE Loss\n",
    "Compute RMSE instead of MSE for this task."
   ]
  },
  {
   "cell_type": "code",
   "execution_count": 33,
   "id": "7cc6bf69",
   "metadata": {},
   "outputs": [],
   "source": [
    "def RMSELoss(prediction, target):\n",
    "    loss_function = nn.MSELoss()\n",
    "    RMSE_loss = torch.sqrt(loss_function(prediction, target))\n",
    "    return RMSE_loss"
   ]
  },
  {
   "cell_type": "markdown",
   "id": "3b09a96b",
   "metadata": {},
   "source": [
    "#### Optimizer"
   ]
  },
  {
   "cell_type": "code",
   "execution_count": 38,
   "id": "606452c7",
   "metadata": {},
   "outputs": [],
   "source": [
    "learningRate = 0.2 # Any small positive value between 0 and 1, try different learning rates\n",
    "optimizer = torch.optim.SGD(model1.parameters(), lr=learningRate)"
   ]
  },
  {
   "cell_type": "markdown",
   "id": "fbd1a4de",
   "metadata": {},
   "source": [
    "#### Training the model"
   ]
  },
  {
   "cell_type": "code",
   "execution_count": 39,
   "id": "39270553",
   "metadata": {},
   "outputs": [
    {
     "name": "stdout",
     "output_type": "stream",
     "text": [
      "tensor(1288190.8750, grad_fn=<SqrtBackward0>)\n",
      "epoch 0, loss 1288190.875\n",
      "tensor(362256.4688, grad_fn=<SqrtBackward0>)\n",
      "epoch 1, loss 362256.46875\n",
      "tensor(536620.6250, grad_fn=<SqrtBackward0>)\n",
      "epoch 2, loss 536620.625\n",
      "tensor(498879.8438, grad_fn=<SqrtBackward0>)\n",
      "epoch 3, loss 498879.84375\n",
      "tensor(518578.1562, grad_fn=<SqrtBackward0>)\n",
      "epoch 4, loss 518578.15625\n",
      "tensor(508694.5312, grad_fn=<SqrtBackward0>)\n",
      "epoch 5, loss 508694.53125\n",
      "tensor(513773.3438, grad_fn=<SqrtBackward0>)\n",
      "epoch 6, loss 513773.34375\n",
      "tensor(511192.1562, grad_fn=<SqrtBackward0>)\n",
      "epoch 7, loss 511192.15625\n",
      "tensor(512511.7812, grad_fn=<SqrtBackward0>)\n",
      "epoch 8, loss 512511.78125\n",
      "tensor(511839.0938, grad_fn=<SqrtBackward0>)\n",
      "epoch 9, loss 511839.09375\n",
      "tensor(512182.5000, grad_fn=<SqrtBackward0>)\n",
      "epoch 10, loss 512182.5\n",
      "tensor(512007.2500, grad_fn=<SqrtBackward0>)\n",
      "epoch 11, loss 512007.25\n",
      "tensor(512096.6562, grad_fn=<SqrtBackward0>)\n",
      "epoch 12, loss 512096.65625\n",
      "tensor(512051., grad_fn=<SqrtBackward0>)\n",
      "epoch 13, loss 512051.0\n",
      "tensor(512074.4375, grad_fn=<SqrtBackward0>)\n",
      "epoch 14, loss 512074.4375\n",
      "tensor(512062.5000, grad_fn=<SqrtBackward0>)\n",
      "epoch 15, loss 512062.5\n",
      "tensor(512068.6875, grad_fn=<SqrtBackward0>)\n",
      "epoch 16, loss 512068.6875\n",
      "tensor(512065.3438, grad_fn=<SqrtBackward0>)\n",
      "epoch 17, loss 512065.34375\n",
      "tensor(512067.1250, grad_fn=<SqrtBackward0>)\n",
      "epoch 18, loss 512067.125\n",
      "tensor(512066.2188, grad_fn=<SqrtBackward0>)\n",
      "epoch 19, loss 512066.21875\n",
      "tensor(512066.6562, grad_fn=<SqrtBackward0>)\n",
      "epoch 20, loss 512066.65625\n",
      "tensor(512066.4375, grad_fn=<SqrtBackward0>)\n",
      "epoch 21, loss 512066.4375\n",
      "tensor(512066.5625, grad_fn=<SqrtBackward0>)\n",
      "epoch 22, loss 512066.5625\n",
      "tensor(512066.4375, grad_fn=<SqrtBackward0>)\n",
      "epoch 23, loss 512066.4375\n",
      "tensor(512066.5000, grad_fn=<SqrtBackward0>)\n",
      "epoch 24, loss 512066.5\n",
      "tensor(512066.5000, grad_fn=<SqrtBackward0>)\n",
      "epoch 25, loss 512066.5\n",
      "tensor(512066.5000, grad_fn=<SqrtBackward0>)\n",
      "epoch 26, loss 512066.5\n",
      "tensor(512066.5000, grad_fn=<SqrtBackward0>)\n",
      "epoch 27, loss 512066.5\n",
      "tensor(512066.5000, grad_fn=<SqrtBackward0>)\n",
      "epoch 28, loss 512066.5\n",
      "tensor(512066.5000, grad_fn=<SqrtBackward0>)\n",
      "epoch 29, loss 512066.5\n",
      "tensor(512066.5000, grad_fn=<SqrtBackward0>)\n",
      "epoch 30, loss 512066.5\n",
      "tensor(512066.5000, grad_fn=<SqrtBackward0>)\n",
      "epoch 31, loss 512066.5\n",
      "tensor(512066.5000, grad_fn=<SqrtBackward0>)\n",
      "epoch 32, loss 512066.5\n",
      "tensor(512066.5000, grad_fn=<SqrtBackward0>)\n",
      "epoch 33, loss 512066.5\n",
      "tensor(512066.5000, grad_fn=<SqrtBackward0>)\n",
      "epoch 34, loss 512066.5\n",
      "tensor(512066.5000, grad_fn=<SqrtBackward0>)\n",
      "epoch 35, loss 512066.5\n",
      "tensor(512066.5000, grad_fn=<SqrtBackward0>)\n",
      "epoch 36, loss 512066.5\n",
      "tensor(512066.5000, grad_fn=<SqrtBackward0>)\n",
      "epoch 37, loss 512066.5\n",
      "tensor(512066.4375, grad_fn=<SqrtBackward0>)\n",
      "epoch 38, loss 512066.4375\n",
      "tensor(512066.5312, grad_fn=<SqrtBackward0>)\n",
      "epoch 39, loss 512066.53125\n",
      "tensor(512066.5312, grad_fn=<SqrtBackward0>)\n",
      "epoch 40, loss 512066.53125\n",
      "tensor(512066.4688, grad_fn=<SqrtBackward0>)\n",
      "epoch 41, loss 512066.46875\n",
      "tensor(512066.5312, grad_fn=<SqrtBackward0>)\n",
      "epoch 42, loss 512066.53125\n",
      "tensor(512066.4688, grad_fn=<SqrtBackward0>)\n",
      "epoch 43, loss 512066.46875\n",
      "tensor(512066.5312, grad_fn=<SqrtBackward0>)\n",
      "epoch 44, loss 512066.53125\n",
      "tensor(512066.4375, grad_fn=<SqrtBackward0>)\n",
      "epoch 45, loss 512066.4375\n",
      "tensor(512066.5312, grad_fn=<SqrtBackward0>)\n",
      "epoch 46, loss 512066.53125\n",
      "tensor(512066.4375, grad_fn=<SqrtBackward0>)\n",
      "epoch 47, loss 512066.4375\n",
      "tensor(512066.5312, grad_fn=<SqrtBackward0>)\n",
      "epoch 48, loss 512066.53125\n",
      "tensor(512066.4375, grad_fn=<SqrtBackward0>)\n",
      "epoch 49, loss 512066.4375\n"
     ]
    }
   ],
   "source": [
    "def train(model, x, y, epochs):\n",
    "    for epoch in range(epochs):\n",
    "        # Clear gradient buffers so that gradient from previous epoch is not carried to current one\n",
    "        optimizer.zero_grad()\n",
    "        \n",
    "        # Output by model\n",
    "        y_pred = model(x)\n",
    "        \n",
    "        RMSE_loss = RMSELoss(y_pred, y)\n",
    "        print(RMSE_loss)\n",
    "        RMSE_loss.backward()\n",
    "        \n",
    "        # Updates the parameters\n",
    "        optimizer.step()\n",
    "\n",
    "        print('epoch {}, loss {}'.format(epoch, RMSE_loss.item()))\n",
    "        \n",
    "train(model1, inputs_train, targets_train, 50)"
   ]
  },
  {
   "cell_type": "markdown",
   "id": "475f77da",
   "metadata": {},
   "source": [
    "#### Model Parameters"
   ]
  },
  {
   "cell_type": "code",
   "execution_count": 42,
   "id": "a592ae77",
   "metadata": {},
   "outputs": [
    {
     "name": "stdout",
     "output_type": "stream",
     "text": [
      "linear.weight tensor([[64.9477]])\n",
      "linear.bias tensor([-0.3015])\n"
     ]
    }
   ],
   "source": [
    "for name, param in model1.named_parameters():\n",
    "    if param.requires_grad:\n",
    "        print(name, param.data)"
   ]
  },
  {
   "cell_type": "markdown",
   "id": "61b90291",
   "metadata": {},
   "source": [
    "## Putting it all together"
   ]
  },
  {
   "cell_type": "markdown",
   "id": "3aa39f79",
   "metadata": {},
   "source": [
    "#### TODO: Write a function that prepares the data based on features we want to include"
   ]
  },
  {
   "cell_type": "code",
   "execution_count": null,
   "id": "9f3c4bd2",
   "metadata": {},
   "outputs": [],
   "source": []
  },
  {
   "cell_type": "markdown",
   "id": "88aff142",
   "metadata": {},
   "source": [
    "### Task 1: Selection and Summary Statistics\n",
    "One neighborhood of Seattle has the highest average house sale price. Note down the ZIP code of this neighborhood and compute the average price. *Save this result to answer the quiz at the end.*"
   ]
  },
  {
   "cell_type": "code",
   "execution_count": null,
   "id": "f3af90c8",
   "metadata": {},
   "outputs": [],
   "source": []
  },
  {
   "cell_type": "markdown",
   "id": "ada899b4-35a4-46c2-9b50-7ccbd2b68061",
   "metadata": {},
   "source": [
    "### Task 2: Filtering Data\n",
    "- Use logical filters to select rows of an SFrame.\n",
    "- Using such filters, first select the houses that have 'sqft_living' higher than 2000 sqft but no larger than 4000 sqft.\n",
    "- What fraction of the all houses have 'sqft_living' in this range? *Save this result to answer the quiz at the end.*\n"
   ]
  },
  {
   "cell_type": "code",
   "execution_count": null,
   "id": "6d794d9f-4e99-4e53-8fd4-acf47a6ecbf9",
   "metadata": {},
   "outputs": [],
   "source": []
  },
  {
   "cell_type": "markdown",
   "id": "7d98842d-51a0-4575-aafd-fd4c4f510d27",
   "metadata": {},
   "source": [
    "### Task 3: Building the Model\n",
    "Use the original dataset and build a model using the following features: bedrooms, bathrooms, sqft_living, sqft_lot, floors, zipcode, condition, grade, waterfront, view, sqft_above, sqft_basement, yr_built, yr_renovated, lat, long, sqft_living15, sqft_lot15.\n",
    "\n",
    "Compute the RMSE (root mean squared error) on the test data for the model using basic features and advanced features.\n",
    "\n",
    "Note:\n",
    "- When doing the train-test split, make sure to use seed=0.\n",
    "- RMSE is the square root of the mean RSS."
   ]
  },
  {
   "cell_type": "code",
   "execution_count": 23,
   "id": "c51b04ce",
   "metadata": {},
   "outputs": [],
   "source": [
    "my_features = ['bedrooms', 'bathrooms', 'sqft_living', 'sqft_lot', 'floors', 'zipcode']"
   ]
  },
  {
   "cell_type": "code",
   "execution_count": 24,
   "id": "df75e61d-203c-44a4-aeeb-2f63e68dcf47",
   "metadata": {},
   "outputs": [],
   "source": [
    "advanced_features = [\n",
    "'bedrooms', 'bathrooms', 'sqft_living', 'sqft_lot', 'floors', 'zipcode',\n",
    "'condition', # condition of house\n",
    "'grade', # measure of quality of construction\n",
    "'waterfront', # waterfront property\n",
    "'view', # type of view\n",
    "'sqft_above', # square feet above ground\n",
    "'sqft_basement', # square feet in basement\n",
    "'yr_built', # the year built\n",
    "'yr_renovated', # the year renovated\n",
    "'lat', 'long', # the lat-long of the parcel\n",
    "'sqft_living15', # average sq.ft. of 15 nearest neighbors\n",
    "'sqft_lot15', # average lot size of 15 nearest neighbors \n",
    "]"
   ]
  },
  {
   "cell_type": "code",
   "execution_count": null,
   "id": "03df6c26-0072-4b21-b577-9d6faeea364a",
   "metadata": {},
   "outputs": [],
   "source": []
  },
  {
   "cell_type": "markdown",
   "id": "a6191971",
   "metadata": {},
   "source": [
    "## Sources\n",
    "[Introductory Guide to PyTorch Using a Linear Regression Problem](https://analyticsindiamag.com/introductory-guide-to-pytorch-using-a-linear-regression-problem/)\n",
    "\n",
    "[Linear Regression and Gradient Descent in PyTorch](https://www.analyticsvidhya.com/blog/2021/08/linear-regression-and-gradient-descent-in-pytorch/)\n",
    "\n",
    "[Interesting Ways to Select Pandas DataFrame Columns](https://towardsdatascience.com/interesting-ways-to-select-pandas-dataframe-columns-b29b82bbfb33#:~:text=This%20is%20the%20most%20basic,Returns%20a%20pandas%20series.&text=Passing%20a%20list%20in%20the,columns%20at%20the%20same%20time.)"
   ]
  },
  {
   "cell_type": "code",
   "execution_count": null,
   "id": "a10cb833",
   "metadata": {},
   "outputs": [],
   "source": []
  }
 ],
 "metadata": {
  "kernelspec": {
   "display_name": "venv",
   "language": "python",
   "name": "venv"
  },
  "language_info": {
   "codemirror_mode": {
    "name": "ipython",
    "version": 3
   },
   "file_extension": ".py",
   "mimetype": "text/x-python",
   "name": "python",
   "nbconvert_exporter": "python",
   "pygments_lexer": "ipython3",
   "version": "3.9.5"
  }
 },
 "nbformat": 4,
 "nbformat_minor": 5
}
