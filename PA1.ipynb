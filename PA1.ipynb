{
 "cells": [
  {
   "cell_type": "markdown",
   "id": "654a79b8-8155-45dc-9967-01e586abd1a5",
   "metadata": {},
   "source": [
    "# Programming Assignment 1: Predicting House Prices\n"
   ]
  },
  {
   "cell_type": "code",
   "execution_count": 55,
   "id": "e66b475f-d33a-4aed-9ab6-1fc204717b67",
   "metadata": {
    "scrolled": true
   },
   "outputs": [
    {
     "data": {
      "text/plain": [
       "'1.4.1'"
      ]
     },
     "execution_count": 55,
     "metadata": {},
     "output_type": "execute_result"
    }
   ],
   "source": [
    "import pandas as pd\n",
    "import numpy as np\n",
    "import torch\n",
    "import torch.nn as nn\n",
    "from torch.utils.data import TensorDataset\n",
    "from torch.utils.data import DataLoader\n",
    "from sklearn.model_selection import train_test_split\n",
    "import matplotlib.pyplot as plt\n",
    "torch.__version__\n",
    "pd.__version__"
   ]
  },
  {
   "cell_type": "markdown",
   "id": "5833a054",
   "metadata": {},
   "source": [
    "#### Read the CSV into a pandas DataFrame\n",
    "\n",
    "Using random_state, with a given DataFrame, the sample will always fetch same rows. If random_state is None or np.random, then a randomly-initialized RandomState object is returned."
   ]
  },
  {
   "cell_type": "code",
   "execution_count": 56,
   "id": "61f6e286",
   "metadata": {},
   "outputs": [
    {
     "data": {
      "text/html": [
       "<div>\n",
       "<style scoped>\n",
       "    .dataframe tbody tr th:only-of-type {\n",
       "        vertical-align: middle;\n",
       "    }\n",
       "\n",
       "    .dataframe tbody tr th {\n",
       "        vertical-align: top;\n",
       "    }\n",
       "\n",
       "    .dataframe thead th {\n",
       "        text-align: right;\n",
       "    }\n",
       "</style>\n",
       "<table border=\"1\" class=\"dataframe\">\n",
       "  <thead>\n",
       "    <tr style=\"text-align: right;\">\n",
       "      <th></th>\n",
       "      <th>id</th>\n",
       "      <th>date</th>\n",
       "      <th>price</th>\n",
       "      <th>bedrooms</th>\n",
       "      <th>bathrooms</th>\n",
       "      <th>sqft_living</th>\n",
       "      <th>sqft_lot</th>\n",
       "      <th>floors</th>\n",
       "      <th>waterfront</th>\n",
       "      <th>view</th>\n",
       "      <th>...</th>\n",
       "      <th>grade</th>\n",
       "      <th>sqft_above</th>\n",
       "      <th>sqft_basement</th>\n",
       "      <th>yr_built</th>\n",
       "      <th>yr_renovated</th>\n",
       "      <th>zipcode</th>\n",
       "      <th>lat</th>\n",
       "      <th>long</th>\n",
       "      <th>sqft_living15</th>\n",
       "      <th>sqft_lot15</th>\n",
       "    </tr>\n",
       "  </thead>\n",
       "  <tbody>\n",
       "    <tr>\n",
       "      <th>17384</th>\n",
       "      <td>1453602313</td>\n",
       "      <td>20141029T000000</td>\n",
       "      <td>297000</td>\n",
       "      <td>2</td>\n",
       "      <td>1.50</td>\n",
       "      <td>1430</td>\n",
       "      <td>1650</td>\n",
       "      <td>3.0</td>\n",
       "      <td>0</td>\n",
       "      <td>0</td>\n",
       "      <td>...</td>\n",
       "      <td>7</td>\n",
       "      <td>1430</td>\n",
       "      <td>0</td>\n",
       "      <td>1999</td>\n",
       "      <td>0</td>\n",
       "      <td>98125</td>\n",
       "      <td>47.7222</td>\n",
       "      <td>-122.290</td>\n",
       "      <td>1430</td>\n",
       "      <td>1650</td>\n",
       "    </tr>\n",
       "    <tr>\n",
       "      <th>722</th>\n",
       "      <td>2225059214</td>\n",
       "      <td>20140808T000000</td>\n",
       "      <td>1578000</td>\n",
       "      <td>4</td>\n",
       "      <td>3.25</td>\n",
       "      <td>4670</td>\n",
       "      <td>51836</td>\n",
       "      <td>2.0</td>\n",
       "      <td>0</td>\n",
       "      <td>0</td>\n",
       "      <td>...</td>\n",
       "      <td>12</td>\n",
       "      <td>4670</td>\n",
       "      <td>0</td>\n",
       "      <td>1988</td>\n",
       "      <td>0</td>\n",
       "      <td>98005</td>\n",
       "      <td>47.6350</td>\n",
       "      <td>-122.164</td>\n",
       "      <td>4230</td>\n",
       "      <td>41075</td>\n",
       "    </tr>\n",
       "    <tr>\n",
       "      <th>2680</th>\n",
       "      <td>2768000270</td>\n",
       "      <td>20140625T000000</td>\n",
       "      <td>562100</td>\n",
       "      <td>2</td>\n",
       "      <td>0.75</td>\n",
       "      <td>1440</td>\n",
       "      <td>3700</td>\n",
       "      <td>1.0</td>\n",
       "      <td>0</td>\n",
       "      <td>0</td>\n",
       "      <td>...</td>\n",
       "      <td>7</td>\n",
       "      <td>1200</td>\n",
       "      <td>240</td>\n",
       "      <td>1914</td>\n",
       "      <td>0</td>\n",
       "      <td>98107</td>\n",
       "      <td>47.6707</td>\n",
       "      <td>-122.364</td>\n",
       "      <td>1440</td>\n",
       "      <td>4300</td>\n",
       "    </tr>\n",
       "  </tbody>\n",
       "</table>\n",
       "<p>3 rows × 21 columns</p>\n",
       "</div>"
      ],
      "text/plain": [
       "               id             date    price  bedrooms  bathrooms  sqft_living  \\\n",
       "17384  1453602313  20141029T000000   297000         2       1.50         1430   \n",
       "722    2225059214  20140808T000000  1578000         4       3.25         4670   \n",
       "2680   2768000270  20140625T000000   562100         2       0.75         1440   \n",
       "\n",
       "       sqft_lot  floors  waterfront  view  ...  grade  sqft_above  \\\n",
       "17384      1650     3.0           0     0  ...      7        1430   \n",
       "722       51836     2.0           0     0  ...     12        4670   \n",
       "2680       3700     1.0           0     0  ...      7        1200   \n",
       "\n",
       "       sqft_basement  yr_built  yr_renovated  zipcode      lat     long  \\\n",
       "17384              0      1999             0    98125  47.7222 -122.290   \n",
       "722                0      1988             0    98005  47.6350 -122.164   \n",
       "2680             240      1914             0    98107  47.6707 -122.364   \n",
       "\n",
       "       sqft_living15  sqft_lot15  \n",
       "17384           1430        1650  \n",
       "722             4230       41075  \n",
       "2680            1440        4300  \n",
       "\n",
       "[3 rows x 21 columns]"
      ]
     },
     "execution_count": 56,
     "metadata": {},
     "output_type": "execute_result"
    }
   ],
   "source": [
    "df = pd.read_csv(\"data/home_data.csv\")\n",
    "# print(df)\n",
    "# print(df['price'][0])\n",
    "df.sample(n=3, random_state=0)"
   ]
  },
  {
   "cell_type": "markdown",
   "id": "0a3ddf0d",
   "metadata": {},
   "source": [
    "#### Visualize the data"
   ]
  },
  {
   "cell_type": "code",
   "execution_count": 57,
   "id": "439ca3a5",
   "metadata": {},
   "outputs": [
    {
     "data": {
      "text/plain": [
       "<AxesSubplot:xlabel='sqft_living', ylabel='price'>"
      ]
     },
     "execution_count": 57,
     "metadata": {},
     "output_type": "execute_result"
    },
    {
     "data": {
      "image/png": "[encoded data removed]",
      "text/plain": [
       "<Figure size 432x288 with 1 Axes>"
      ]
     },
     "metadata": {
      "needs_background": "light"
     },
     "output_type": "display_data"
    }
   ],
   "source": [
    "df.plot(kind='scatter', x='sqft_living', y='price')"
   ]
  },
  {
   "cell_type": "markdown",
   "id": "950fabb4",
   "metadata": {},
   "source": [
    "#### Splitting the data into training and test sets"
   ]
  },
  {
   "cell_type": "markdown",
   "id": "42cf64d0",
   "metadata": {},
   "source": [
    "Use Scikit Learn's <code>train_test_split</code> to split dataframes.\n",
    "\n",
    "When comparing machine learning algorithms, it's desirable that they are fit and evaluated on the same subsets of the dataset. This can be achieved by setting the <code>random_state</code> to an integer value. For more information, see [Repeatable Train-Test Splits](https://machinelearningmastery.com/train-test-split-for-evaluating-machine-learning-algorithms/)."
   ]
  },
  {
   "cell_type": "code",
   "execution_count": 58,
   "id": "bb57851e",
   "metadata": {},
   "outputs": [
    {
     "data": {
      "text/plain": [
       "pandas.core.frame.DataFrame"
      ]
     },
     "execution_count": 58,
     "metadata": {},
     "output_type": "execute_result"
    }
   ],
   "source": [
    "train, test = train_test_split(df, test_size=0.2, random_state=1)\n",
    "type(train)"
   ]
  },
  {
   "cell_type": "markdown",
   "id": "72679c42",
   "metadata": {},
   "source": [
    "The mean price of our training set."
   ]
  },
  {
   "cell_type": "code",
   "execution_count": 59,
   "id": "e97ce718",
   "metadata": {},
   "outputs": [
    {
     "data": {
      "text/plain": [
       "537880.6155002891"
      ]
     },
     "execution_count": 59,
     "metadata": {},
     "output_type": "execute_result"
    }
   ],
   "source": [
    "train['price'].mean()"
   ]
  },
  {
   "cell_type": "markdown",
   "id": "85ad3955",
   "metadata": {},
   "source": [
    "### Prepare the data\n",
    "We need the data as PyTorch tensors for usage in our model. We will need to convert pandas DataFrame to Numpy Array and then Pytorch Tensor. \n",
    "\n",
    "To convert a Pandas DataFrame to a Numpy Array, use <code>to_numpy()</code>. To convert a Numpy Array to a PyTorch Tensor, use <code>torch.from_numpy()</code>. For more information, see [this page](https://medium.com/@thackerhelik/linear-regression-in-pytorch-3793d89ff3f)."
   ]
  },
  {
   "cell_type": "code",
   "execution_count": 60,
   "id": "96505b14",
   "metadata": {},
   "outputs": [
    {
     "data": {
      "text/plain": [
       "array([[ 353000],\n",
       "       [ 300523],\n",
       "       [ 435000],\n",
       "       ...,\n",
       "       [ 650000],\n",
       "       [ 437000],\n",
       "       [1025000]], dtype=int64)"
      ]
     },
     "execution_count": 60,
     "metadata": {},
     "output_type": "execute_result"
    }
   ],
   "source": [
    "def df_to_array(dataframe, features, output=['price']):\n",
    "    \"\"\"\n",
    "    Parameters\n",
    "    ----------\n",
    "    dataframe: pandas DataFrame\n",
    "        train or test set\n",
    "    features: list of strings\n",
    "        features used to predict sales price of house\n",
    "    output: list of strings\n",
    "        the observation variable\n",
    "    \"\"\"\n",
    "    df1 = dataframe.copy(deep=True)\n",
    "    inputs_array = df1[features].to_numpy()\n",
    "    targets_array = df1[output].to_numpy()\n",
    "    return inputs_array, targets_array\n",
    "\n",
    "inputs_array, targets_array = df_to_array(train, ['sqft_living'], ['price'])\n",
    "targets_array\n",
    "#inputs.dtype"
   ]
  },
  {
   "cell_type": "code",
   "execution_count": 61,
   "id": "c622661a",
   "metadata": {},
   "outputs": [
    {
     "data": {
      "text/plain": [
       "(tensor([[2190.],\n",
       "         [2370.],\n",
       "         [1230.],\n",
       "         ...,\n",
       "         [1970.],\n",
       "         [1980.],\n",
       "         [3760.]]),\n",
       " tensor([[ 353000.],\n",
       "         [ 300523.],\n",
       "         [ 435000.],\n",
       "         ...,\n",
       "         [ 650000.],\n",
       "         [ 437000.],\n",
       "         [1025000.]]))"
      ]
     },
     "execution_count": 61,
     "metadata": {},
     "output_type": "execute_result"
    }
   ],
   "source": [
    "def arr_to_tensor(inputs_array, targets_array):\n",
    "    \"\"\"\n",
    "    Parameters\n",
    "    ----------\n",
    "    inputs_array: numpy array\n",
    "    targets_array: numpy array\n",
    "    \"\"\"\n",
    "    inputs_train = torch.from_numpy(inputs_array).float()\n",
    "    targets_train = torch.from_numpy(targets_array).float()\n",
    "    return inputs_train, targets_train\n",
    "\n",
    "inputs_train, targets_train = arr_to_tensor(inputs_array, targets_array)\n",
    "inputs_train, targets_train"
   ]
  },
  {
   "cell_type": "code",
   "execution_count": 62,
   "id": "0eb4bc63",
   "metadata": {},
   "outputs": [],
   "source": [
    "#dataset = TensorDataset(inputs_train, targets_train)\n",
    "#train_loader = DataLoader(dataset, batch_size=50, shuffle=False)\n",
    "#for xb, yb in train_loader:\n",
    "#    print(\"inputs:\", xb)\n",
    "#    print(\"targets:\", yb)\n",
    "#    break\n",
    "\n",
    "#inputs = torch.from_numpy(train[['sqft_living']].to_numpy()).float() # Must be df[[feature]] to ensure 2D array\n",
    "#inputs\n",
    "#targets = torch.from_numpy(train[['price']].to_numpy()).float()\n",
    "#targets\n",
    "#targets.dtype\n",
    "#train[['price']].to_numpy()"
   ]
  },
  {
   "cell_type": "markdown",
   "id": "2735cc0b",
   "metadata": {},
   "source": [
    "### Create a linear regression model\n",
    "#### Define the regression class"
   ]
  },
  {
   "cell_type": "code",
   "execution_count": 63,
   "id": "0f12721c",
   "metadata": {},
   "outputs": [],
   "source": [
    "class LinearRegression(nn.Module):\n",
    "    def __init__(self, input_dim, output_dim):\n",
    "        super(LinearRegression, self).__init__()\n",
    "        self.linear = torch.nn.Linear(input_dim, output_dim, bias=True) # bias default True\n",
    "        \n",
    "    def forward(self, x):\n",
    "        out = self.linear(x)\n",
    "        return out"
   ]
  },
  {
   "cell_type": "markdown",
   "id": "3ed55812",
   "metadata": {},
   "source": [
    "#### Instantiate model"
   ]
  },
  {
   "cell_type": "code",
   "execution_count": 64,
   "id": "aa8700c7",
   "metadata": {},
   "outputs": [],
   "source": [
    "input_dim = 1\n",
    "output_dim = 1\n",
    "model1 = LinearRegression(input_dim, output_dim)"
   ]
  },
  {
   "cell_type": "markdown",
   "id": "b4b478a4",
   "metadata": {},
   "source": [
    "#### Compute RMSE Loss\n",
    "Compute RMSE instead of MSE for this task."
   ]
  },
  {
   "cell_type": "code",
   "execution_count": 65,
   "id": "7cc6bf69",
   "metadata": {},
   "outputs": [],
   "source": [
    "def RMSELoss(prediction, target):\n",
    "    loss_function = nn.MSELoss()\n",
    "    RMSE_loss = torch.sqrt(loss_function(prediction, target))\n",
    "    return RMSE_loss"
   ]
  },
  {
   "cell_type": "markdown",
   "id": "3b09a96b",
   "metadata": {},
   "source": [
    "#### Optimizer"
   ]
  },
  {
   "cell_type": "code",
   "execution_count": 66,
   "id": "606452c7",
   "metadata": {},
   "outputs": [],
   "source": [
    "learningRate = 0.2 # Any small positive value between 0 and 1, try different learning rates\n",
    "optimizer = torch.optim.SGD(model1.parameters(), lr=learningRate)"
   ]
  },
  {
   "cell_type": "markdown",
   "id": "fbd1a4de",
   "metadata": {},
   "source": [
    "#### Training the model"
   ]
  },
  {
   "cell_type": "code",
   "execution_count": 67,
   "id": "39270553",
   "metadata": {},
   "outputs": [
    {
     "name": "stdout",
     "output_type": "stream",
     "text": [
      "epoch 0, loss 645831.25\n",
      "epoch 1, loss 430447.09375\n",
      "epoch 2, loss 542711.625\n",
      "epoch 3, loss 495427.75\n",
      "epoch 4, loss 520206.46875\n",
      "epoch 5, loss 507835.875\n",
      "epoch 6, loss 514203.5625\n",
      "epoch 7, loss 510970.4375\n",
      "epoch 8, loss 512624.4375\n",
      "epoch 9, loss 511781.65625\n",
      "epoch 10, loss 512211.84375\n",
      "epoch 11, loss 511992.28125\n",
      "epoch 12, loss 512104.03125\n",
      "epoch 13, loss 512047.1875\n",
      "epoch 14, loss 512076.4375\n",
      "epoch 15, loss 512061.3125\n",
      "epoch 16, loss 512069.4375\n",
      "epoch 17, loss 512065.0625\n",
      "epoch 18, loss 512067.25\n",
      "epoch 19, loss 512066.0625\n",
      "epoch 20, loss 512066.75\n",
      "epoch 21, loss 512066.375\n",
      "epoch 22, loss 512066.5\n",
      "epoch 23, loss 512066.5\n",
      "epoch 24, loss 512066.5\n",
      "epoch 25, loss 512066.5\n",
      "epoch 26, loss 512066.5\n",
      "epoch 27, loss 512066.5\n",
      "epoch 28, loss 512066.4375\n",
      "epoch 29, loss 512066.5\n",
      "epoch 30, loss 512066.4375\n",
      "epoch 31, loss 512066.5\n",
      "epoch 32, loss 512066.4375\n",
      "epoch 33, loss 512066.53125\n",
      "epoch 34, loss 512066.5625\n",
      "epoch 35, loss 512066.40625\n",
      "epoch 36, loss 512066.5625\n",
      "epoch 37, loss 512066.40625\n",
      "epoch 38, loss 512066.5625\n",
      "epoch 39, loss 512066.40625\n",
      "epoch 40, loss 512066.5625\n",
      "epoch 41, loss 512066.4375\n",
      "epoch 42, loss 512066.5625\n",
      "epoch 43, loss 512066.53125\n",
      "epoch 44, loss 512066.5625\n",
      "epoch 45, loss 512066.53125\n",
      "epoch 46, loss 512066.53125\n",
      "epoch 47, loss 512066.4375\n",
      "epoch 48, loss 512066.5625\n",
      "epoch 49, loss 512066.5\n"
     ]
    }
   ],
   "source": [
    "def trainModel(model, x, y, epochs):\n",
    "    for epoch in range(epochs):\n",
    "        # Clear gradient buffers so that gradient from previous epoch is not carried to current one\n",
    "        optimizer.zero_grad()\n",
    "        \n",
    "        # Output by model\n",
    "        y_pred = model(x)\n",
    "        \n",
    "        RMSE_loss = RMSELoss(y_pred, y)\n",
    "        # print(RMSE_loss)\n",
    "        RMSE_loss.backward()\n",
    "        \n",
    "        # Updates the parameters\n",
    "        optimizer.step()\n",
    "\n",
    "        print('epoch {}, loss {}'.format(epoch, RMSE_loss.item()))\n",
    "        \n",
    "trainModel(model1, inputs_train, targets_train, 50)"
   ]
  },
  {
   "cell_type": "markdown",
   "id": "475f77da",
   "metadata": {},
   "source": [
    "#### Model Parameters"
   ]
  },
  {
   "cell_type": "code",
   "execution_count": 68,
   "id": "a592ae77",
   "metadata": {},
   "outputs": [
    {
     "name": "stdout",
     "output_type": "stream",
     "text": [
      "linear.weight tensor([[64.9476]])\n",
      "linear.bias tensor([-0.1582])\n"
     ]
    }
   ],
   "source": [
    "for name, param in model1.named_parameters():\n",
    "    if param.requires_grad:\n",
    "        print(name, param.data)"
   ]
  },
  {
   "cell_type": "markdown",
   "id": "62097a6e",
   "metadata": {},
   "source": [
    "## Use other features in the data"
   ]
  },
  {
   "cell_type": "code",
   "execution_count": 69,
   "id": "a00737bd",
   "metadata": {},
   "outputs": [
    {
     "name": "stdout",
     "output_type": "stream",
     "text": [
      "epoch 0, loss 640618.875\n",
      "epoch 1, loss 573360.625\n",
      "epoch 2, loss 513994.625\n",
      "epoch 3, loss 464172.0625\n",
      "epoch 4, loss 425077.5625\n",
      "epoch 5, loss 396814.875\n",
      "epoch 6, loss 378104.15625\n",
      "epoch 7, loss 366681.21875\n",
      "epoch 8, loss 360137.0625\n",
      "epoch 9, loss 356546.375\n"
     ]
    }
   ],
   "source": [
    "features = ['bedrooms', 'bathrooms', 'sqft_living', 'sqft_lot', 'floors', 'zipcode']\n",
    "\n",
    "inputs_array2, targets_array2 = df_to_array(train, features, ['price'])\n",
    "#inputs_array2\n",
    "#targets_array2\n",
    "\n",
    "inputs_train2, targets_train2 = arr_to_tensor(inputs_array2, targets_array2)\n",
    "#inputs_train2, targets_train2\n",
    "\n",
    "model2 = LinearRegression(6, 1) # Input dimension = 6, output dimension = 1\n",
    "\n",
    "lr2 = 0.00001 # Any small positive value between 0 and 1, try different learning rates\n",
    "optimizer = torch.optim.SGD(model2.parameters(), lr=lr2)\n",
    "\n",
    "trainModel(model2, inputs_train2, targets_train2, 10)"
   ]
  },
  {
   "cell_type": "markdown",
   "id": "61b90291",
   "metadata": {},
   "source": [
    "## Tasks"
   ]
  },
  {
   "cell_type": "markdown",
   "id": "88aff142",
   "metadata": {},
   "source": [
    "### Task 1: Selection and Summary Statistics\n",
    "One neighborhood of Seattle has the highest average house sale price. Note down the ZIP code of this neighborhood and compute the average price. *Save this result to answer the quiz at the end.*"
   ]
  },
  {
   "cell_type": "code",
   "execution_count": 70,
   "id": "f3af90c8",
   "metadata": {},
   "outputs": [
    {
     "data": {
      "text/plain": [
       "2160606.6"
      ]
     },
     "execution_count": 70,
     "metadata": {},
     "output_type": "execute_result"
    }
   ],
   "source": [
    "zip_98039 = df['zipcode'] == 98039\n",
    "df_98039 = df[zip_98039]\n",
    "df_98039.head()\n",
    "df_98039.shape\n",
    "\n",
    "df_98039['price'].mean() # Mean price of houses in this neighborhood"
   ]
  },
  {
   "cell_type": "markdown",
   "id": "ada899b4-35a4-46c2-9b50-7ccbd2b68061",
   "metadata": {},
   "source": [
    "### Task 2: Filtering Data\n",
    "- Use logical filters to select rows of an SFrame.\n",
    "- Using such filters, first select the houses that have 'sqft_living' higher than 2000 sqft but no larger than 4000 sqft.\n",
    "- What fraction of the all houses have 'sqft_living' in this range? *Save this result to answer the quiz at the end.*\n"
   ]
  },
  {
   "cell_type": "code",
   "execution_count": 71,
   "id": "6d794d9f-4e99-4e53-8fd4-acf47a6ecbf9",
   "metadata": {},
   "outputs": [
    {
     "name": "stdout",
     "output_type": "stream",
     "text": [
      "0.4215518437977143\n"
     ]
    },
    {
     "name": "stderr",
     "output_type": "stream",
     "text": [
      "C:\\Users\\Administrator\\AppData\\Local\\Temp\\ipykernel_11268\\555855110.py:4: UserWarning: Boolean Series key will be reindexed to match DataFrame index.\n",
      "  df_filtered = df_ht2[less_than_4000]\n"
     ]
    }
   ],
   "source": [
    "higher_than_2000 = df['sqft_living'] > 2000\n",
    "less_than_4000 = df['sqft_living'] < 4000\n",
    "df_ht2 = df[higher_than_2000]\n",
    "df_filtered = df_ht2[less_than_4000]\n",
    "\n",
    "df_filtered.head()\n",
    "df_filtered.shape[0] # 9111 houses have sqft_living higher than 2000 sqft but no larger than 4000 sqft\n",
    "df.shape[0] # 21613 houses in total\n",
    "fraction = df_filtered.shape[0]/df.shape[0]\n",
    "print(fraction) # 42.155% of all houses in the dataset have sqft_living in this range"
   ]
  },
  {
   "cell_type": "markdown",
   "id": "7d98842d-51a0-4575-aafd-fd4c4f510d27",
   "metadata": {},
   "source": [
    "### Task 3: Building the Model\n",
    "Use the original dataset and build a model using the following features: bedrooms, bathrooms, sqft_living, sqft_lot, floors, zipcode, condition, grade, waterfront, view, sqft_above, sqft_basement, yr_built, yr_renovated, lat, long, sqft_living15, sqft_lot15.\n",
    "\n",
    "Compute the RMSE (root mean squared error) on the test data for the model using basic features and advanced features.\n",
    "\n",
    "Note:\n",
    "- When doing the train-test split, make sure to use seed=0.\n",
    "- RMSE is the square root of the mean RSS.\n",
    "\n",
    "What is the difference in RMSE between the model trained with my_features and the one trained with advanced_features? *Save this result to answer the quiz at the end.*"
   ]
  },
  {
   "cell_type": "code",
   "execution_count": 72,
   "id": "c51b04ce",
   "metadata": {},
   "outputs": [],
   "source": [
    "my_features = ['bedrooms', 'bathrooms', 'sqft_living', 'sqft_lot', 'floors', 'zipcode']"
   ]
  },
  {
   "cell_type": "code",
   "execution_count": 73,
   "id": "df75e61d-203c-44a4-aeeb-2f63e68dcf47",
   "metadata": {},
   "outputs": [
    {
     "data": {
      "text/plain": [
       "18"
      ]
     },
     "execution_count": 73,
     "metadata": {},
     "output_type": "execute_result"
    }
   ],
   "source": [
    "advanced_features = [\n",
    "'bedrooms', 'bathrooms', 'sqft_living', 'sqft_lot', 'floors', 'zipcode',\n",
    "'condition', # condition of house\n",
    "'grade', # measure of quality of construction\n",
    "'waterfront', # waterfront property\n",
    "'view', # type of view\n",
    "'sqft_above', # square feet above ground\n",
    "'sqft_basement', # square feet in basement\n",
    "'yr_built', # the year built\n",
    "'yr_renovated', # the year renovated\n",
    "'lat', 'long', # the lat-long of the parcel\n",
    "'sqft_living15', # average sq.ft. of 15 nearest neighbors\n",
    "'sqft_lot15', # average lot size of 15 nearest neighbors \n",
    "]\n",
    "len(advanced_features) # This will be the input dimension of the model"
   ]
  },
  {
   "cell_type": "code",
   "execution_count": 74,
   "id": "03df6c26-0072-4b21-b577-9d6faeea364a",
   "metadata": {},
   "outputs": [
    {
     "name": "stdout",
     "output_type": "stream",
     "text": [
      "epoch 0, loss 635902.375\n",
      "epoch 1, loss 567901.25\n",
      "epoch 2, loss 508326.34375\n",
      "epoch 3, loss 458893.34375\n",
      "epoch 4, loss 420724.3125\n",
      "epoch 5, loss 393690.1875\n",
      "epoch 6, loss 376191.375\n",
      "epoch 7, loss 365727.28125\n",
      "epoch 8, loss 359820.375\n",
      "epoch 9, loss 356595.6875\n",
      "epoch 10, loss 354855.8125\n",
      "epoch 11, loss 353910.34375\n",
      "epoch 12, loss 353383.34375\n",
      "epoch 13, loss 353076.28125\n",
      "epoch 14, loss 352885.8125\n",
      "epoch 15, loss 352758.375\n",
      "epoch 16, loss 352666.1875\n",
      "epoch 17, loss 352594.8125\n",
      "epoch 18, loss 352536.4375\n",
      "epoch 19, loss 352486.875\n"
     ]
    }
   ],
   "source": [
    "inputs_array3, targets_array3 = df_to_array(train, advanced_features, ['price'])\n",
    "\n",
    "inputs_train3 = torch.from_numpy(inputs_array3).float()\n",
    "targets_train3 = torch.from_numpy(targets_array3).float()\n",
    "\n",
    "model3 = LinearRegression(len(advanced_features), 1) # Input dimension = 6, output dimension = 1\n",
    "\n",
    "lr3 = 0.00001 # Any small positive value between 0 and 1, try different learning rates\n",
    "optimizer = torch.optim.SGD(model3.parameters(), lr=lr3)\n",
    "\n",
    "trainModel(model3, inputs_train3, targets_train3, 20)"
   ]
  },
  {
   "cell_type": "markdown",
   "id": "d6e723a2",
   "metadata": {},
   "source": [
    "#### Testing the Model\n",
    "\n",
    "First, prepare the test set. Then, use the models to make predictions for test data."
   ]
  },
  {
   "cell_type": "code",
   "execution_count": 75,
   "id": "2e458f04",
   "metadata": {},
   "outputs": [],
   "source": [
    "def test_model(model, test, features):\n",
    "    x_test_array, y_test_array = df_to_array(test, features, ['price'])\n",
    "    x_test = torch.from_numpy(x_test_array).float()\n",
    "    \n",
    "    result = {}\n",
    "    \n",
    "    y_pred_test = model.forward(x_test)\n",
    "    y_pred_test = [y_pred_test[x].item() for x in range(len(y_pred_test))]\n",
    "    \n",
    "    y_test_array = [y_test_array[x][0] for x in range(len(y_test_array))]\n",
    "    \n",
    "    result['Actual Observation'] = y_test_array\n",
    "    result['Predictions'] = y_pred_test\n",
    "    result = pd.DataFrame(result)\n",
    "    \n",
    "    print(result.plot())\n",
    "    return result"
   ]
  },
  {
   "cell_type": "code",
   "execution_count": 76,
   "id": "2424e1c1",
   "metadata": {},
   "outputs": [
    {
     "name": "stdout",
     "output_type": "stream",
     "text": [
      "AxesSubplot(0.125,0.125;0.775x0.755)\n"
     ]
    },
    {
     "data": {
      "text/html": [
       "<div>\n",
       "<style scoped>\n",
       "    .dataframe tbody tr th:only-of-type {\n",
       "        vertical-align: middle;\n",
       "    }\n",
       "\n",
       "    .dataframe tbody tr th {\n",
       "        vertical-align: top;\n",
       "    }\n",
       "\n",
       "    .dataframe thead th {\n",
       "        text-align: right;\n",
       "    }\n",
       "</style>\n",
       "<table border=\"1\" class=\"dataframe\">\n",
       "  <thead>\n",
       "    <tr style=\"text-align: right;\">\n",
       "      <th></th>\n",
       "      <th>Actual Observation</th>\n",
       "      <th>Predictions</th>\n",
       "    </tr>\n",
       "  </thead>\n",
       "  <tbody>\n",
       "    <tr>\n",
       "      <th>0</th>\n",
       "      <td>459000</td>\n",
       "      <td>494153.28125</td>\n",
       "    </tr>\n",
       "    <tr>\n",
       "      <th>1</th>\n",
       "      <td>445000</td>\n",
       "      <td>493726.93750</td>\n",
       "    </tr>\n",
       "    <tr>\n",
       "      <th>2</th>\n",
       "      <td>1057000</td>\n",
       "      <td>606092.68750</td>\n",
       "    </tr>\n",
       "    <tr>\n",
       "      <th>3</th>\n",
       "      <td>732350</td>\n",
       "      <td>494751.68750</td>\n",
       "    </tr>\n",
       "    <tr>\n",
       "      <th>4</th>\n",
       "      <td>235000</td>\n",
       "      <td>495219.43750</td>\n",
       "    </tr>\n",
       "    <tr>\n",
       "      <th>...</th>\n",
       "      <td>...</td>\n",
       "      <td>...</td>\n",
       "    </tr>\n",
       "    <tr>\n",
       "      <th>4318</th>\n",
       "      <td>965000</td>\n",
       "      <td>495927.34375</td>\n",
       "    </tr>\n",
       "    <tr>\n",
       "      <th>4319</th>\n",
       "      <td>359950</td>\n",
       "      <td>493803.37500</td>\n",
       "    </tr>\n",
       "    <tr>\n",
       "      <th>4320</th>\n",
       "      <td>260000</td>\n",
       "      <td>494144.06250</td>\n",
       "    </tr>\n",
       "    <tr>\n",
       "      <th>4321</th>\n",
       "      <td>1795000</td>\n",
       "      <td>500975.93750</td>\n",
       "    </tr>\n",
       "    <tr>\n",
       "      <th>4322</th>\n",
       "      <td>418000</td>\n",
       "      <td>501718.68750</td>\n",
       "    </tr>\n",
       "  </tbody>\n",
       "</table>\n",
       "<p>4323 rows × 2 columns</p>\n",
       "</div>"
      ],
      "text/plain": [
       "      Actual Observation   Predictions\n",
       "0                 459000  494153.28125\n",
       "1                 445000  493726.93750\n",
       "2                1057000  606092.68750\n",
       "3                 732350  494751.68750\n",
       "4                 235000  495219.43750\n",
       "...                  ...           ...\n",
       "4318              965000  495927.34375\n",
       "4319              359950  493803.37500\n",
       "4320              260000  494144.06250\n",
       "4321             1795000  500975.93750\n",
       "4322              418000  501718.68750\n",
       "\n",
       "[4323 rows x 2 columns]"
      ]
     },
     "execution_count": 76,
     "metadata": {},
     "output_type": "execute_result"
    },
    {
     "data": {
      "image/png": "[encoded data removed]",
      "text/plain": [
       "<Figure size 432x288 with 1 Axes>"
      ]
     },
     "metadata": {
      "needs_background": "light"
     },
     "output_type": "display_data"
    }
   ],
   "source": [
    "test_model(model2, test, features)"
   ]
  },
  {
   "cell_type": "code",
   "execution_count": 77,
   "id": "da7f6e33",
   "metadata": {},
   "outputs": [
    {
     "name": "stdout",
     "output_type": "stream",
     "text": [
      "AxesSubplot(0.125,0.125;0.775x0.755)\n"
     ]
    },
    {
     "data": {
      "text/html": [
       "<div>\n",
       "<style scoped>\n",
       "    .dataframe tbody tr th:only-of-type {\n",
       "        vertical-align: middle;\n",
       "    }\n",
       "\n",
       "    .dataframe tbody tr th {\n",
       "        vertical-align: top;\n",
       "    }\n",
       "\n",
       "    .dataframe thead th {\n",
       "        text-align: right;\n",
       "    }\n",
       "</style>\n",
       "<table border=\"1\" class=\"dataframe\">\n",
       "  <thead>\n",
       "    <tr style=\"text-align: right;\">\n",
       "      <th></th>\n",
       "      <th>Actual Observation</th>\n",
       "      <th>Predictions</th>\n",
       "    </tr>\n",
       "  </thead>\n",
       "  <tbody>\n",
       "    <tr>\n",
       "      <th>0</th>\n",
       "      <td>459000</td>\n",
       "      <td>525383.6250</td>\n",
       "    </tr>\n",
       "    <tr>\n",
       "      <th>1</th>\n",
       "      <td>445000</td>\n",
       "      <td>524776.0625</td>\n",
       "    </tr>\n",
       "    <tr>\n",
       "      <th>2</th>\n",
       "      <td>1057000</td>\n",
       "      <td>750995.5000</td>\n",
       "    </tr>\n",
       "    <tr>\n",
       "      <th>3</th>\n",
       "      <td>732350</td>\n",
       "      <td>527212.3750</td>\n",
       "    </tr>\n",
       "    <tr>\n",
       "      <th>4</th>\n",
       "      <td>235000</td>\n",
       "      <td>528302.0625</td>\n",
       "    </tr>\n",
       "    <tr>\n",
       "      <th>...</th>\n",
       "      <td>...</td>\n",
       "      <td>...</td>\n",
       "    </tr>\n",
       "    <tr>\n",
       "      <th>4318</th>\n",
       "      <td>965000</td>\n",
       "      <td>528598.4375</td>\n",
       "    </tr>\n",
       "    <tr>\n",
       "      <th>4319</th>\n",
       "      <td>359950</td>\n",
       "      <td>524160.4375</td>\n",
       "    </tr>\n",
       "    <tr>\n",
       "      <th>4320</th>\n",
       "      <td>260000</td>\n",
       "      <td>526721.8125</td>\n",
       "    </tr>\n",
       "    <tr>\n",
       "      <th>4321</th>\n",
       "      <td>1795000</td>\n",
       "      <td>538694.5625</td>\n",
       "    </tr>\n",
       "    <tr>\n",
       "      <th>4322</th>\n",
       "      <td>418000</td>\n",
       "      <td>541259.3125</td>\n",
       "    </tr>\n",
       "  </tbody>\n",
       "</table>\n",
       "<p>4323 rows × 2 columns</p>\n",
       "</div>"
      ],
      "text/plain": [
       "      Actual Observation  Predictions\n",
       "0                 459000  525383.6250\n",
       "1                 445000  524776.0625\n",
       "2                1057000  750995.5000\n",
       "3                 732350  527212.3750\n",
       "4                 235000  528302.0625\n",
       "...                  ...          ...\n",
       "4318              965000  528598.4375\n",
       "4319              359950  524160.4375\n",
       "4320              260000  526721.8125\n",
       "4321             1795000  538694.5625\n",
       "4322              418000  541259.3125\n",
       "\n",
       "[4323 rows x 2 columns]"
      ]
     },
     "execution_count": 77,
     "metadata": {},
     "output_type": "execute_result"
    },
    {
     "data": {
      "image/png": "[encoded data removed]",
      "text/plain": [
       "<Figure size 432x288 with 1 Axes>"
      ]
     },
     "metadata": {
      "needs_background": "light"
     },
     "output_type": "display_data"
    }
   ],
   "source": [
    "test_model(model3, test, advanced_features)"
   ]
  },
  {
   "cell_type": "markdown",
   "id": "a6191971",
   "metadata": {},
   "source": [
    "## Sources\n",
    "[Introductory Guide to PyTorch Using a Linear Regression Problem](https://analyticsindiamag.com/introductory-guide-to-pytorch-using-a-linear-regression-problem/)\n",
    "\n",
    "[Linear Regression and Gradient Descent in PyTorch](https://www.analyticsvidhya.com/blog/2021/08/linear-regression-and-gradient-descent-in-pytorch/)\n",
    "\n",
    "[Interesting Ways to Select Pandas DataFrame Columns](https://towardsdatascience.com/interesting-ways-to-select-pandas-dataframe-columns-b29b82bbfb33#:~:text=This%20is%20the%20most%20basic,Returns%20a%20pandas%20series.&text=Passing%20a%20list%20in%20the,columns%20at%20the%20same%20time.)"
   ]
  },
  {
   "cell_type": "code",
   "execution_count": null,
   "id": "a10cb833",
   "metadata": {},
   "outputs": [],
   "source": []
  }
 ],
 "metadata": {
  "kernelspec": {
   "display_name": "venv",
   "language": "python",
   "name": "venv"
  },
  "language_info": {
   "codemirror_mode": {
    "name": "ipython",
    "version": 3
   },
   "file_extension": ".py",
   "mimetype": "text/x-python",
   "name": "python",
   "nbconvert_exporter": "python",
   "pygments_lexer": "ipython3",
   "version": "3.9.5"
  }
 },
 "nbformat": 4,
 "nbformat_minor": 5
}
