{
 "cells": [
  {
   "cell_type": "markdown",
   "id": "69bfded2",
   "metadata": {},
   "source": [
    "# Programming Assignment 2: Analyzing Product Sentiment\n",
    "\n",
    "Use a set of key polarizing words and verify their corresponding weights to train a sentiment analysis model. Then, compare the results of this classifier with those of one using all of the words."
   ]
  },
  {
   "cell_type": "code",
   "execution_count": 1,
   "id": "8e1c5262",
   "metadata": {},
   "outputs": [
    {
     "name": "stderr",
     "output_type": "stream",
     "text": [
      "E:\\ML\\venv\\lib\\site-packages\\tqdm\\auto.py:22: TqdmWarning: IProgress not found. Please update jupyter and ipywidgets. See https://ipywidgets.readthedocs.io/en/stable/user_install.html\n",
      "  from .autonotebook import tqdm as notebook_tqdm\n"
     ]
    }
   ],
   "source": [
    "import re\n",
    "import pandas as pd\n",
    "import numpy as np\n",
    "import torch\n",
    "import torch.nn as nn\n",
    "from collections import Counter"
   ]
  },
  {
   "cell_type": "markdown",
   "id": "5cefeaea",
   "metadata": {},
   "source": [
    "A subset of key polarizing words:"
   ]
  },
  {
   "cell_type": "code",
   "execution_count": 2,
   "id": "3f4dda20",
   "metadata": {},
   "outputs": [],
   "source": [
    "selected_words = ['awesome', 'great', 'fantastic', 'amazing', 'love', 'horrible', 'bad', 'terrible', 'awful', 'wow', 'hate']"
   ]
  },
  {
   "cell_type": "markdown",
   "id": "ba7daeae",
   "metadata": {},
   "source": [
    "### Data pre-processing"
   ]
  },
  {
   "cell_type": "code",
   "execution_count": 3,
   "id": "65bb4a4d",
   "metadata": {},
   "outputs": [
    {
     "name": "stdout",
     "output_type": "stream",
     "text": [
      "There are 183531 entries and 3 columns.\n"
     ]
    },
    {
     "data": {
      "text/html": [
       "<div>\n",
       "<style scoped>\n",
       "    .dataframe tbody tr th:only-of-type {\n",
       "        vertical-align: middle;\n",
       "    }\n",
       "\n",
       "    .dataframe tbody tr th {\n",
       "        vertical-align: top;\n",
       "    }\n",
       "\n",
       "    .dataframe thead th {\n",
       "        text-align: right;\n",
       "    }\n",
       "</style>\n",
       "<table border=\"1\" class=\"dataframe\">\n",
       "  <thead>\n",
       "    <tr style=\"text-align: right;\">\n",
       "      <th></th>\n",
       "      <th>name</th>\n",
       "      <th>review</th>\n",
       "      <th>rating</th>\n",
       "    </tr>\n",
       "  </thead>\n",
       "  <tbody>\n",
       "    <tr>\n",
       "      <th>0</th>\n",
       "      <td>Planetwise Flannel Wipes</td>\n",
       "      <td>These flannel wipes are OK, but in my opinion ...</td>\n",
       "      <td>3</td>\n",
       "    </tr>\n",
       "    <tr>\n",
       "      <th>1</th>\n",
       "      <td>Planetwise Wipe Pouch</td>\n",
       "      <td>it came early and was not disappointed. i love...</td>\n",
       "      <td>5</td>\n",
       "    </tr>\n",
       "    <tr>\n",
       "      <th>2</th>\n",
       "      <td>Annas Dream Full Quilt with 2 Shams</td>\n",
       "      <td>Very soft and comfortable and warmer than it l...</td>\n",
       "      <td>5</td>\n",
       "    </tr>\n",
       "    <tr>\n",
       "      <th>3</th>\n",
       "      <td>Stop Pacifier Sucking without tears with Thumb...</td>\n",
       "      <td>This is a product well worth the purchase.  I ...</td>\n",
       "      <td>5</td>\n",
       "    </tr>\n",
       "    <tr>\n",
       "      <th>4</th>\n",
       "      <td>Stop Pacifier Sucking without tears with Thumb...</td>\n",
       "      <td>All of my kids have cried non-stop when I trie...</td>\n",
       "      <td>5</td>\n",
       "    </tr>\n",
       "  </tbody>\n",
       "</table>\n",
       "</div>"
      ],
      "text/plain": [
       "                                                name  \\\n",
       "0                           Planetwise Flannel Wipes   \n",
       "1                              Planetwise Wipe Pouch   \n",
       "2                Annas Dream Full Quilt with 2 Shams   \n",
       "3  Stop Pacifier Sucking without tears with Thumb...   \n",
       "4  Stop Pacifier Sucking without tears with Thumb...   \n",
       "\n",
       "                                              review  rating  \n",
       "0  These flannel wipes are OK, but in my opinion ...       3  \n",
       "1  it came early and was not disappointed. i love...       5  \n",
       "2  Very soft and comfortable and warmer than it l...       5  \n",
       "3  This is a product well worth the purchase.  I ...       5  \n",
       "4  All of my kids have cried non-stop when I trie...       5  "
      ]
     },
     "execution_count": 3,
     "metadata": {},
     "output_type": "execute_result"
    }
   ],
   "source": [
    "products = pd.read_csv(\"data/amazon_baby.csv\")\n",
    "print(\"There are \" + str(products.shape[0]) + \" entries and \" + str(products.shape[1]) + \" columns.\")\n",
    "products.head()\n",
    "# products.sample(n=3, random_state=0)"
   ]
  },
  {
   "cell_type": "markdown",
   "id": "e16c07e7",
   "metadata": {},
   "source": [
    "## Task 1: Build a new feature with the counts for each of the selected words\n",
    "The task is to create a new column in the products DataFrame with the counts for each selected_word above. "
   ]
  },
  {
   "cell_type": "code",
   "execution_count": null,
   "id": "5345fa66",
   "metadata": {},
   "outputs": [],
   "source": [
    "def count_words(sentence):\n",
    "    # Convert sentence to lower-case, and remove punctuations\n",
    "    sentence = re.sub('\\\\.|\\\\,|\\\\!|\\\\?| -', '', sentence.lower())\n",
    "    \n",
    "    # Count words in sentence\n",
    "    word_count = Counter(sentence.split())\n",
    "    \n",
    "    return word_count\n",
    "\n",
    "def count_target_words(sent_counter, selected_words):\n",
    "    sent_targets = {}\n",
    "    \n",
    "    for word in selected_words:\n",
    "        if word in sent_counter:\n",
    "            sent_targets[word] = sent_counter[word]\n",
    "        else:\n",
    "            sent_targets[word] = 0\n",
    "            \n",
    "    return sent_targets"
   ]
  },
  {
   "cell_type": "code",
   "execution_count": 17,
   "id": "9a701ddd",
   "metadata": {},
   "outputs": [],
   "source": [
    "# This is the function that will be used together with .apply()\n",
    "def count(row):\n",
    "    sentence = row['review']\n",
    "    \n",
    "    # Convert sentence to lower-case, and remove punctuations\n",
    "    sentence = re.sub('\\\\.|\\\\,|\\\\!|\\\\?| -', '', sentence.lower())\n",
    "    \n",
    "    # Count words in sentence\n",
    "    word_count = Counter(sentence.split())\n",
    "    \n",
    "    return word_count\n",
    "\n",
    "# This is the function to use together with .apply() to get word count of selected words\n",
    "def count_selected(row, word_list = selected_words):\n",
    "    sentence = row['review']\n",
    "    \n",
    "    # Convert sentence to lower-case, and remove punctuations\n",
    "    sentence = re.sub('\\\\.|\\\\,|\\\\!|\\\\?| -', '', sentence.lower())\n",
    "    \n",
    "    # Count words in sentence\n",
    "    word_count = Counter(sentence.split())\n",
    "    \n",
    "    # Initialize empty dict to store count of selected words\n",
    "    sent_targets = {}\n",
    "    \n",
    "    for word in word_list:\n",
    "        if word in word_count:\n",
    "            sent_targets[word] = word_count[word]\n",
    "        else:\n",
    "            sent_targets[word] = 0\n",
    "            \n",
    "    return sent_targets"
   ]
  },
  {
   "cell_type": "markdown",
   "id": "1aac78bd",
   "metadata": {},
   "source": [
    "If the functions in the cell above are directly used on the original dataframe, it will raise <code>AttributeError: 'float' object has no attribute 'lower'</code> because there are empty cells with NaN values. One solution is to remove the rows with empty cells in the review column, another solution is to replace NaN values with an empty string.\n",
    "\n",
    "For more information, see [this page](https://stackoverflow.com/questions/42224700/attributeerror-float-object-has-no-attribute-split)."
   ]
  },
  {
   "cell_type": "code",
   "execution_count": 18,
   "id": "5e7c2546",
   "metadata": {},
   "outputs": [
    {
     "data": {
      "text/html": [
       "<div>\n",
       "<style scoped>\n",
       "    .dataframe tbody tr th:only-of-type {\n",
       "        vertical-align: middle;\n",
       "    }\n",
       "\n",
       "    .dataframe tbody tr th {\n",
       "        vertical-align: top;\n",
       "    }\n",
       "\n",
       "    .dataframe thead th {\n",
       "        text-align: right;\n",
       "    }\n",
       "</style>\n",
       "<table border=\"1\" class=\"dataframe\">\n",
       "  <thead>\n",
       "    <tr style=\"text-align: right;\">\n",
       "      <th></th>\n",
       "      <th>name</th>\n",
       "      <th>review</th>\n",
       "      <th>rating</th>\n",
       "      <th>selected_count</th>\n",
       "    </tr>\n",
       "  </thead>\n",
       "  <tbody>\n",
       "    <tr>\n",
       "      <th>0</th>\n",
       "      <td>Planetwise Flannel Wipes</td>\n",
       "      <td>These flannel wipes are OK, but in my opinion ...</td>\n",
       "      <td>3</td>\n",
       "      <td>{'awesome': 0, 'great': 0, 'fantastic': 0, 'am...</td>\n",
       "    </tr>\n",
       "    <tr>\n",
       "      <th>1</th>\n",
       "      <td>Planetwise Wipe Pouch</td>\n",
       "      <td>it came early and was not disappointed. i love...</td>\n",
       "      <td>5</td>\n",
       "      <td>{'awesome': 0, 'great': 0, 'fantastic': 0, 'am...</td>\n",
       "    </tr>\n",
       "    <tr>\n",
       "      <th>2</th>\n",
       "      <td>Annas Dream Full Quilt with 2 Shams</td>\n",
       "      <td>Very soft and comfortable and warmer than it l...</td>\n",
       "      <td>5</td>\n",
       "      <td>{'awesome': 0, 'great': 0, 'fantastic': 0, 'am...</td>\n",
       "    </tr>\n",
       "    <tr>\n",
       "      <th>3</th>\n",
       "      <td>Stop Pacifier Sucking without tears with Thumb...</td>\n",
       "      <td>This is a product well worth the purchase.  I ...</td>\n",
       "      <td>5</td>\n",
       "      <td>{'awesome': 0, 'great': 0, 'fantastic': 0, 'am...</td>\n",
       "    </tr>\n",
       "    <tr>\n",
       "      <th>4</th>\n",
       "      <td>Stop Pacifier Sucking without tears with Thumb...</td>\n",
       "      <td>All of my kids have cried non-stop when I trie...</td>\n",
       "      <td>5</td>\n",
       "      <td>{'awesome': 0, 'great': 1, 'fantastic': 0, 'am...</td>\n",
       "    </tr>\n",
       "  </tbody>\n",
       "</table>\n",
       "</div>"
      ],
      "text/plain": [
       "                                                name  \\\n",
       "0                           Planetwise Flannel Wipes   \n",
       "1                              Planetwise Wipe Pouch   \n",
       "2                Annas Dream Full Quilt with 2 Shams   \n",
       "3  Stop Pacifier Sucking without tears with Thumb...   \n",
       "4  Stop Pacifier Sucking without tears with Thumb...   \n",
       "\n",
       "                                              review  rating  \\\n",
       "0  These flannel wipes are OK, but in my opinion ...       3   \n",
       "1  it came early and was not disappointed. i love...       5   \n",
       "2  Very soft and comfortable and warmer than it l...       5   \n",
       "3  This is a product well worth the purchase.  I ...       5   \n",
       "4  All of my kids have cried non-stop when I trie...       5   \n",
       "\n",
       "                                      selected_count  \n",
       "0  {'awesome': 0, 'great': 0, 'fantastic': 0, 'am...  \n",
       "1  {'awesome': 0, 'great': 0, 'fantastic': 0, 'am...  \n",
       "2  {'awesome': 0, 'great': 0, 'fantastic': 0, 'am...  \n",
       "3  {'awesome': 0, 'great': 0, 'fantastic': 0, 'am...  \n",
       "4  {'awesome': 0, 'great': 1, 'fantastic': 0, 'am...  "
      ]
     },
     "execution_count": 18,
     "metadata": {},
     "output_type": "execute_result"
    }
   ],
   "source": [
    "p1 = products.copy(deep=True) # Make a copy of the original dataframe\n",
    "\n",
    "# If the function count() is directly applied on the dataframe, it will raise\n",
    "# AttributeError: 'float' object has no attribute 'lower' because the column\n",
    "# 'review' have cells with NaN values. \n",
    "\n",
    "# Must remove these empty cells before calling .apply()\n",
    "p1 = p1[p1['review'].notnull()]\n",
    "\n",
    "# Get word count\n",
    "# p1['word_count'] = p1.apply(count, axis = 1)\n",
    "\n",
    "# Get word count of selected words\n",
    "p1['selected_count'] = p1.apply(count_selected, axis = 1)\n",
    "p1.head()"
   ]
  },
  {
   "cell_type": "markdown",
   "id": "f34a14ff",
   "metadata": {},
   "source": [
    "#### Quiz Question 1: \n",
    "Use .sum() method on each of the new columns created and answer the following question: out of the <code>selected_words</code>, which one is most used in the dataset? Which one is least used?\n",
    "*Save these results to answer the quiz at the end.*"
   ]
  },
  {
   "cell_type": "code",
   "execution_count": null,
   "id": "a732b12c",
   "metadata": {},
   "outputs": [],
   "source": []
  },
  {
   "cell_type": "markdown",
   "id": "26982de7",
   "metadata": {},
   "source": [
    "## Task 2: Create a new sentiment analysis model using only the <code>selected_words</code> as features\n",
    "\n",
    "- Split the dataset into train and test sets\n",
    "- Train a logistic regression classifier using just the selected words\n",
    "- Examine the weights the learned classifier assigned to each of the words in selected_words"
   ]
  },
  {
   "cell_type": "code",
   "execution_count": null,
   "id": "ecf65449",
   "metadata": {},
   "outputs": [],
   "source": []
  },
  {
   "cell_type": "markdown",
   "id": "ec43198d",
   "metadata": {},
   "source": [
    "#### Quiz Question 2: \n",
    "Using this approach, sort the learned coefficients according to the 'value' column using .sort(). Out of the 11 words, which one got the most positive weight? Which one got the most negative weight? Do these values make sense?\n",
    "*Save the results to answer the quiz at the end.*"
   ]
  },
  {
   "cell_type": "code",
   "execution_count": null,
   "id": "1d0962d1",
   "metadata": {},
   "outputs": [],
   "source": []
  }
 ],
 "metadata": {
  "kernelspec": {
   "display_name": "venv",
   "language": "python",
   "name": "venv"
  },
  "language_info": {
   "codemirror_mode": {
    "name": "ipython",
    "version": 3
   },
   "file_extension": ".py",
   "mimetype": "text/x-python",
   "name": "python",
   "nbconvert_exporter": "python",
   "pygments_lexer": "ipython3",
   "version": "3.9.5"
  }
 },
 "nbformat": 4,
 "nbformat_minor": 5
}
