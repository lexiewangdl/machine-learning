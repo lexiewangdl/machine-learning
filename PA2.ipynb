{
 "cells": [
  {
   "cell_type": "markdown",
   "id": "69bfded2",
   "metadata": {},
   "source": [
    "# Programming Assignment 2: Analyzing Product Sentiment\n",
    "\n",
    "Use a set of key polarizing words and verify their corresponding weights to train a sentiment analysis model. Then, compare the results of this classifier with those of one using all of the words."
   ]
  },
  {
   "cell_type": "code",
   "execution_count": 13,
   "id": "8e1c5262",
   "metadata": {},
   "outputs": [],
   "source": [
    "import re\n",
    "import pandas as pd\n",
    "import numpy as np\n",
    "import torch\n",
    "import torch.nn as nn\n",
    "import seaborn as sn\n",
    "import matplotlib.pyplot as plt\n",
    "from sklearn.model_selection import train_test_split\n",
    "from sklearn.metrics import confusion_matrix\n",
    "from sklearn.metrics import plot_confusion_matrix\n",
    "from collections import Counter"
   ]
  },
  {
   "cell_type": "markdown",
   "id": "5cefeaea",
   "metadata": {},
   "source": [
    "A subset of key polarizing words:"
   ]
  },
  {
   "cell_type": "code",
   "execution_count": 14,
   "id": "3f4dda20",
   "metadata": {},
   "outputs": [],
   "source": [
    "selected_words = ['awesome', 'great', 'fantastic', 'amazing', 'love', 'horrible', 'bad', 'terrible', 'awful', 'wow', 'hate']"
   ]
  },
  {
   "cell_type": "markdown",
   "id": "ba7daeae",
   "metadata": {},
   "source": [
    "#### Preview the data"
   ]
  },
  {
   "cell_type": "code",
   "execution_count": 15,
   "id": "65bb4a4d",
   "metadata": {},
   "outputs": [
    {
     "name": "stdout",
     "output_type": "stream",
     "text": [
      "There are 183531 entries and 3 columns.\n"
     ]
    },
    {
     "data": {
      "text/html": [
       "<div>\n",
       "<style scoped>\n",
       "    .dataframe tbody tr th:only-of-type {\n",
       "        vertical-align: middle;\n",
       "    }\n",
       "\n",
       "    .dataframe tbody tr th {\n",
       "        vertical-align: top;\n",
       "    }\n",
       "\n",
       "    .dataframe thead th {\n",
       "        text-align: right;\n",
       "    }\n",
       "</style>\n",
       "<table border=\"1\" class=\"dataframe\">\n",
       "  <thead>\n",
       "    <tr style=\"text-align: right;\">\n",
       "      <th></th>\n",
       "      <th>name</th>\n",
       "      <th>review</th>\n",
       "      <th>rating</th>\n",
       "    </tr>\n",
       "  </thead>\n",
       "  <tbody>\n",
       "    <tr>\n",
       "      <th>0</th>\n",
       "      <td>Planetwise Flannel Wipes</td>\n",
       "      <td>These flannel wipes are OK, but in my opinion ...</td>\n",
       "      <td>3</td>\n",
       "    </tr>\n",
       "    <tr>\n",
       "      <th>1</th>\n",
       "      <td>Planetwise Wipe Pouch</td>\n",
       "      <td>it came early and was not disappointed. i love...</td>\n",
       "      <td>5</td>\n",
       "    </tr>\n",
       "    <tr>\n",
       "      <th>2</th>\n",
       "      <td>Annas Dream Full Quilt with 2 Shams</td>\n",
       "      <td>Very soft and comfortable and warmer than it l...</td>\n",
       "      <td>5</td>\n",
       "    </tr>\n",
       "    <tr>\n",
       "      <th>3</th>\n",
       "      <td>Stop Pacifier Sucking without tears with Thumb...</td>\n",
       "      <td>This is a product well worth the purchase.  I ...</td>\n",
       "      <td>5</td>\n",
       "    </tr>\n",
       "    <tr>\n",
       "      <th>4</th>\n",
       "      <td>Stop Pacifier Sucking without tears with Thumb...</td>\n",
       "      <td>All of my kids have cried non-stop when I trie...</td>\n",
       "      <td>5</td>\n",
       "    </tr>\n",
       "  </tbody>\n",
       "</table>\n",
       "</div>"
      ],
      "text/plain": [
       "                                                name  \\\n",
       "0                           Planetwise Flannel Wipes   \n",
       "1                              Planetwise Wipe Pouch   \n",
       "2                Annas Dream Full Quilt with 2 Shams   \n",
       "3  Stop Pacifier Sucking without tears with Thumb...   \n",
       "4  Stop Pacifier Sucking without tears with Thumb...   \n",
       "\n",
       "                                              review  rating  \n",
       "0  These flannel wipes are OK, but in my opinion ...       3  \n",
       "1  it came early and was not disappointed. i love...       5  \n",
       "2  Very soft and comfortable and warmer than it l...       5  \n",
       "3  This is a product well worth the purchase.  I ...       5  \n",
       "4  All of my kids have cried non-stop when I trie...       5  "
      ]
     },
     "execution_count": 15,
     "metadata": {},
     "output_type": "execute_result"
    }
   ],
   "source": [
    "products = pd.read_csv(\"data/amazon_baby.csv\")\n",
    "print(\"There are \" + str(products.shape[0]) + \" entries and \" + str(products.shape[1]) + \" columns.\")\n",
    "products.head()\n",
    "# products.sample(n=3, random_state=0)"
   ]
  },
  {
   "cell_type": "markdown",
   "id": "e16c07e7",
   "metadata": {},
   "source": [
    "## Task 1: Build a new feature with the counts for each of the selected words\n",
    "The task is to create a new column in the products DataFrame with the counts for each selected_word above. "
   ]
  },
  {
   "cell_type": "code",
   "execution_count": 16,
   "id": "5345fa66",
   "metadata": {},
   "outputs": [],
   "source": [
    "def count_words(sentence):\n",
    "    # Convert sentence to lower-case, and remove punctuations\n",
    "    sentence = re.sub('\\\\.|\\\\,|\\\\!|\\\\?| -', '', sentence.lower())\n",
    "    \n",
    "    # Count words in sentence\n",
    "    word_count = Counter(sentence.split())\n",
    "    \n",
    "    return word_count\n",
    "\n",
    "def count_target_words(sent_counter, selected_words):\n",
    "    sent_targets = {}\n",
    "    \n",
    "    for word in selected_words:\n",
    "        if word in sent_counter:\n",
    "            sent_targets[word] = sent_counter[word]\n",
    "        else:\n",
    "            sent_targets[word] = 0\n",
    "            \n",
    "    return sent_targets"
   ]
  },
  {
   "cell_type": "code",
   "execution_count": 17,
   "id": "9a701ddd",
   "metadata": {},
   "outputs": [],
   "source": [
    "# This is the function that will be used together with .apply()\n",
    "def count(row):\n",
    "    sentence = row['review']\n",
    "    \n",
    "    # Convert sentence to lower-case, and remove punctuations\n",
    "    sentence = re.sub('\\\\.|\\\\,|\\\\!|\\\\?| -', '', sentence.lower())\n",
    "    \n",
    "    # Count words in sentence\n",
    "    word_count = Counter(sentence.split())\n",
    "    \n",
    "    return word_count\n",
    "\n",
    "# This is the function to use together with .apply() to get word count of selected words\n",
    "def count_selected(row, word_list = selected_words):\n",
    "    sentence = row['review']\n",
    "    \n",
    "    # Convert sentence to lower-case, and remove punctuations\n",
    "    sentence = re.sub('\\\\.|\\\\,|\\\\!|\\\\?| -', '', sentence.lower())\n",
    "    \n",
    "    # Count words in sentence\n",
    "    word_count = Counter(sentence.split())\n",
    "    \n",
    "    # Initialize empty dict to store count of selected words\n",
    "    sent_targets = {}\n",
    "    \n",
    "    for word in word_list:\n",
    "        if word in word_count:\n",
    "            sent_targets[word] = word_count[word]\n",
    "        else:\n",
    "            sent_targets[word] = 0\n",
    "            \n",
    "    return Counter(sent_targets)"
   ]
  },
  {
   "cell_type": "markdown",
   "id": "1aac78bd",
   "metadata": {},
   "source": [
    "If the functions in the cell above are directly used on the original dataframe, it will raise <code>AttributeError: 'float' object has no attribute 'lower'</code> because there are empty cells with NaN values. One solution is to remove the rows with empty cells in the review column, another solution is to replace NaN values with an empty string.\n",
    "\n",
    "For more information, see [this page](https://stackoverflow.com/questions/42224700/attributeerror-float-object-has-no-attribute-split)."
   ]
  },
  {
   "cell_type": "code",
   "execution_count": 18,
   "id": "5e7c2546",
   "metadata": {},
   "outputs": [
    {
     "data": {
      "text/html": [
       "<div>\n",
       "<style scoped>\n",
       "    .dataframe tbody tr th:only-of-type {\n",
       "        vertical-align: middle;\n",
       "    }\n",
       "\n",
       "    .dataframe tbody tr th {\n",
       "        vertical-align: top;\n",
       "    }\n",
       "\n",
       "    .dataframe thead th {\n",
       "        text-align: right;\n",
       "    }\n",
       "</style>\n",
       "<table border=\"1\" class=\"dataframe\">\n",
       "  <thead>\n",
       "    <tr style=\"text-align: right;\">\n",
       "      <th></th>\n",
       "      <th>name</th>\n",
       "      <th>review</th>\n",
       "      <th>rating</th>\n",
       "      <th>selected_count</th>\n",
       "    </tr>\n",
       "  </thead>\n",
       "  <tbody>\n",
       "    <tr>\n",
       "      <th>0</th>\n",
       "      <td>Planetwise Flannel Wipes</td>\n",
       "      <td>These flannel wipes are OK, but in my opinion ...</td>\n",
       "      <td>3</td>\n",
       "      <td>{'awesome': 0, 'great': 0, 'fantastic': 0, 'am...</td>\n",
       "    </tr>\n",
       "    <tr>\n",
       "      <th>1</th>\n",
       "      <td>Planetwise Wipe Pouch</td>\n",
       "      <td>it came early and was not disappointed. i love...</td>\n",
       "      <td>5</td>\n",
       "      <td>{'awesome': 0, 'great': 0, 'fantastic': 0, 'am...</td>\n",
       "    </tr>\n",
       "    <tr>\n",
       "      <th>2</th>\n",
       "      <td>Annas Dream Full Quilt with 2 Shams</td>\n",
       "      <td>Very soft and comfortable and warmer than it l...</td>\n",
       "      <td>5</td>\n",
       "      <td>{'awesome': 0, 'great': 0, 'fantastic': 0, 'am...</td>\n",
       "    </tr>\n",
       "    <tr>\n",
       "      <th>3</th>\n",
       "      <td>Stop Pacifier Sucking without tears with Thumb...</td>\n",
       "      <td>This is a product well worth the purchase.  I ...</td>\n",
       "      <td>5</td>\n",
       "      <td>{'awesome': 0, 'great': 0, 'fantastic': 0, 'am...</td>\n",
       "    </tr>\n",
       "    <tr>\n",
       "      <th>4</th>\n",
       "      <td>Stop Pacifier Sucking without tears with Thumb...</td>\n",
       "      <td>All of my kids have cried non-stop when I trie...</td>\n",
       "      <td>5</td>\n",
       "      <td>{'awesome': 0, 'great': 1, 'fantastic': 0, 'am...</td>\n",
       "    </tr>\n",
       "  </tbody>\n",
       "</table>\n",
       "</div>"
      ],
      "text/plain": [
       "                                                name  \\\n",
       "0                           Planetwise Flannel Wipes   \n",
       "1                              Planetwise Wipe Pouch   \n",
       "2                Annas Dream Full Quilt with 2 Shams   \n",
       "3  Stop Pacifier Sucking without tears with Thumb...   \n",
       "4  Stop Pacifier Sucking without tears with Thumb...   \n",
       "\n",
       "                                              review  rating  \\\n",
       "0  These flannel wipes are OK, but in my opinion ...       3   \n",
       "1  it came early and was not disappointed. i love...       5   \n",
       "2  Very soft and comfortable and warmer than it l...       5   \n",
       "3  This is a product well worth the purchase.  I ...       5   \n",
       "4  All of my kids have cried non-stop when I trie...       5   \n",
       "\n",
       "                                      selected_count  \n",
       "0  {'awesome': 0, 'great': 0, 'fantastic': 0, 'am...  \n",
       "1  {'awesome': 0, 'great': 0, 'fantastic': 0, 'am...  \n",
       "2  {'awesome': 0, 'great': 0, 'fantastic': 0, 'am...  \n",
       "3  {'awesome': 0, 'great': 0, 'fantastic': 0, 'am...  \n",
       "4  {'awesome': 0, 'great': 1, 'fantastic': 0, 'am...  "
      ]
     },
     "execution_count": 18,
     "metadata": {},
     "output_type": "execute_result"
    }
   ],
   "source": [
    "p1 = products.copy(deep=True) # Make a copy of the original dataframe\n",
    "\n",
    "# If the function count() is directly applied on the dataframe, it will raise\n",
    "# AttributeError: 'float' object has no attribute 'lower' because the column\n",
    "# 'review' have cells with NaN values. \n",
    "\n",
    "# Must remove these empty cells before calling .apply()\n",
    "p1 = p1[p1['review'].notnull()]\n",
    "\n",
    "# Get word count\n",
    "# p1['word_count'] = p1.apply(count, axis = 1)\n",
    "\n",
    "# Get word count of selected words\n",
    "p1['selected_count'] = p1.apply(count_selected, axis = 1)\n",
    "p1.head()"
   ]
  },
  {
   "cell_type": "markdown",
   "id": "f34a14ff",
   "metadata": {},
   "source": [
    "#### Quiz Question 1: \n",
    "Use .sum() method on each of the new columns created and answer the following question: out of the <code>selected_words</code>, which one is most used in the dataset? Which one is least used?\n",
    "*Save these results to answer the quiz at the end.*"
   ]
  },
  {
   "cell_type": "code",
   "execution_count": 19,
   "id": "a732b12c",
   "metadata": {},
   "outputs": [
    {
     "name": "stdout",
     "output_type": "stream",
     "text": [
      "Counter({'great': 57637, 'love': 43185, 'bad': 4658, 'awesome': 3841, 'amazing': 2609, 'fantastic': 1682, 'hate': 1247, 'terrible': 1219, 'horrible': 1199, 'awful': 711, 'wow': 382})\n",
      "The most common keyword in this dataset is great and its count is 57637.\n",
      "The least common keyword in this dataset is wow and its count is 382.\n"
     ]
    }
   ],
   "source": [
    "def sum_counts(counter_series): # Recursive function with runtime O(log(n))\n",
    "    \n",
    "    if len(counter_series) > 10:\n",
    "        counter_first = sum_counts(counter_series[:int(len(counter_series)/2)])\n",
    "        counter_second = sum_counts(counter_series[int(len(counter_series)/2):])\n",
    "        return sum([counter_first, counter_second], Counter())\n",
    "    \n",
    "    else:\n",
    "        return sum(counter_series, Counter())\n",
    "\n",
    "sum_all_entries = sum_counts(p1['selected_count'])\n",
    "\n",
    "print(sum_all_entries)\n",
    "\n",
    "# Get the most common keyword in dataset\n",
    "most_common = sum_all_entries.most_common(1)\n",
    "print('The most common keyword in this dataset is '+ str(most_common[0][0]) + ' and its count is ' + str(most_common[0][1]) + '.')\n",
    "\n",
    "# Get the least common keyword in dataset\n",
    "least_common = sum_all_entries.most_common()[-1]\n",
    "print('The least common keyword in this dataset is ' + str(least_common[0]) + ' and its count is ' + str(least_common[1]) + '.')"
   ]
  },
  {
   "cell_type": "markdown",
   "id": "26982de7",
   "metadata": {},
   "source": [
    "## Task 2: Create a new sentiment analysis model using only the <code>selected_words</code> as features\n",
    "\n",
    "- Split the dataset into train and test sets\n",
    "- Train a logistic regression classifier using just the selected words\n",
    "- Examine the weights the learned classifier assigned to each of the words in selected_words\n",
    "\n",
    "#### Define what is positive and negative sentiment\n",
    "- Ignore all reviews with 3 stars\n",
    "- If more than 3 stars, positive review"
   ]
  },
  {
   "cell_type": "code",
   "execution_count": 20,
   "id": "e0e807d7",
   "metadata": {},
   "outputs": [
    {
     "data": {
      "text/html": [
       "<div>\n",
       "<style scoped>\n",
       "    .dataframe tbody tr th:only-of-type {\n",
       "        vertical-align: middle;\n",
       "    }\n",
       "\n",
       "    .dataframe tbody tr th {\n",
       "        vertical-align: top;\n",
       "    }\n",
       "\n",
       "    .dataframe thead th {\n",
       "        text-align: right;\n",
       "    }\n",
       "</style>\n",
       "<table border=\"1\" class=\"dataframe\">\n",
       "  <thead>\n",
       "    <tr style=\"text-align: right;\">\n",
       "      <th></th>\n",
       "      <th>name</th>\n",
       "      <th>review</th>\n",
       "      <th>rating</th>\n",
       "      <th>selected_count</th>\n",
       "      <th>sentiment</th>\n",
       "    </tr>\n",
       "  </thead>\n",
       "  <tbody>\n",
       "    <tr>\n",
       "      <th>125405</th>\n",
       "      <td>UPPAbaby G-Luxe Stroller, Jake/Black</td>\n",
       "      <td>This stroller is AMAZING!  We needed something...</td>\n",
       "      <td>5</td>\n",
       "      <td>{'awesome': 0, 'great': 1, 'fantastic': 0, 'am...</td>\n",
       "      <td>True</td>\n",
       "    </tr>\n",
       "    <tr>\n",
       "      <th>8633</th>\n",
       "      <td>Inclined to Sleep</td>\n",
       "      <td>We bought this for my son (he had bad reflux)....</td>\n",
       "      <td>1</td>\n",
       "      <td>{'awesome': 0, 'great': 0, 'fantastic': 0, 'am...</td>\n",
       "      <td>False</td>\n",
       "    </tr>\n",
       "    <tr>\n",
       "      <th>53155</th>\n",
       "      <td>Bright Starts Rattle and Shake Barbell Rattle,...</td>\n",
       "      <td>This rattle is fantastic.  It\\'s easy for smal...</td>\n",
       "      <td>5</td>\n",
       "      <td>{'awesome': 0, 'great': 0, 'fantastic': 1, 'am...</td>\n",
       "      <td>True</td>\n",
       "    </tr>\n",
       "  </tbody>\n",
       "</table>\n",
       "</div>"
      ],
      "text/plain": [
       "                                                     name  \\\n",
       "125405               UPPAbaby G-Luxe Stroller, Jake/Black   \n",
       "8633                                    Inclined to Sleep   \n",
       "53155   Bright Starts Rattle and Shake Barbell Rattle,...   \n",
       "\n",
       "                                                   review  rating  \\\n",
       "125405  This stroller is AMAZING!  We needed something...       5   \n",
       "8633    We bought this for my son (he had bad reflux)....       1   \n",
       "53155   This rattle is fantastic.  It\\'s easy for smal...       5   \n",
       "\n",
       "                                           selected_count  sentiment  \n",
       "125405  {'awesome': 0, 'great': 1, 'fantastic': 0, 'am...       True  \n",
       "8633    {'awesome': 0, 'great': 0, 'fantastic': 0, 'am...      False  \n",
       "53155   {'awesome': 0, 'great': 0, 'fantastic': 1, 'am...       True  "
      ]
     },
     "execution_count": 20,
     "metadata": {},
     "output_type": "execute_result"
    }
   ],
   "source": [
    "#ignore all 3*  reviews\n",
    "p1 = p1[p1['rating']!= 3]\n",
    "\n",
    "#positive sentiment = 4-star or 5-star reviews\n",
    "p1['sentiment'] = p1['rating'] >= 4\n",
    "\n",
    "p1.sample(n=3, random_state=0)"
   ]
  },
  {
   "cell_type": "markdown",
   "id": "178bbcd8",
   "metadata": {},
   "source": [
    "#### Pre-process data"
   ]
  },
  {
   "cell_type": "code",
   "execution_count": 21,
   "id": "e76de9e4",
   "metadata": {},
   "outputs": [
    {
     "data": {
      "text/html": [
       "<div>\n",
       "<style scoped>\n",
       "    .dataframe tbody tr th:only-of-type {\n",
       "        vertical-align: middle;\n",
       "    }\n",
       "\n",
       "    .dataframe tbody tr th {\n",
       "        vertical-align: top;\n",
       "    }\n",
       "\n",
       "    .dataframe thead th {\n",
       "        text-align: right;\n",
       "    }\n",
       "</style>\n",
       "<table border=\"1\" class=\"dataframe\">\n",
       "  <thead>\n",
       "    <tr style=\"text-align: right;\">\n",
       "      <th></th>\n",
       "      <th>selected_count</th>\n",
       "      <th>sentiment</th>\n",
       "    </tr>\n",
       "  </thead>\n",
       "  <tbody>\n",
       "    <tr>\n",
       "      <th>125405</th>\n",
       "      <td>{'awesome': 0, 'great': 1, 'fantastic': 0, 'am...</td>\n",
       "      <td>1</td>\n",
       "    </tr>\n",
       "    <tr>\n",
       "      <th>8633</th>\n",
       "      <td>{'awesome': 0, 'great': 0, 'fantastic': 0, 'am...</td>\n",
       "      <td>0</td>\n",
       "    </tr>\n",
       "    <tr>\n",
       "      <th>53155</th>\n",
       "      <td>{'awesome': 0, 'great': 0, 'fantastic': 1, 'am...</td>\n",
       "      <td>1</td>\n",
       "    </tr>\n",
       "    <tr>\n",
       "      <th>90419</th>\n",
       "      <td>{'awesome': 0, 'great': 0, 'fantastic': 0, 'am...</td>\n",
       "      <td>1</td>\n",
       "    </tr>\n",
       "    <tr>\n",
       "      <th>179352</th>\n",
       "      <td>{'awesome': 0, 'great': 0, 'fantastic': 0, 'am...</td>\n",
       "      <td>1</td>\n",
       "    </tr>\n",
       "  </tbody>\n",
       "</table>\n",
       "</div>"
      ],
      "text/plain": [
       "                                           selected_count  sentiment\n",
       "125405  {'awesome': 0, 'great': 1, 'fantastic': 0, 'am...          1\n",
       "8633    {'awesome': 0, 'great': 0, 'fantastic': 0, 'am...          0\n",
       "53155   {'awesome': 0, 'great': 0, 'fantastic': 1, 'am...          1\n",
       "90419   {'awesome': 0, 'great': 0, 'fantastic': 0, 'am...          1\n",
       "179352  {'awesome': 0, 'great': 0, 'fantastic': 0, 'am...          1"
      ]
     },
     "execution_count": 21,
     "metadata": {},
     "output_type": "execute_result"
    }
   ],
   "source": [
    "p2 = p1[['selected_count', 'sentiment']].copy()\n",
    "p2['sentiment'] = p2['sentiment'].replace([True, False], [1, 0])\n",
    "p2.sample(n=5, random_state=0)"
   ]
  },
  {
   "cell_type": "code",
   "execution_count": 22,
   "id": "90be4bd6",
   "metadata": {},
   "outputs": [
    {
     "data": {
      "text/html": [
       "<div>\n",
       "<style scoped>\n",
       "    .dataframe tbody tr th:only-of-type {\n",
       "        vertical-align: middle;\n",
       "    }\n",
       "\n",
       "    .dataframe tbody tr th {\n",
       "        vertical-align: top;\n",
       "    }\n",
       "\n",
       "    .dataframe thead th {\n",
       "        text-align: right;\n",
       "    }\n",
       "</style>\n",
       "<table border=\"1\" class=\"dataframe\">\n",
       "  <thead>\n",
       "    <tr style=\"text-align: right;\">\n",
       "      <th></th>\n",
       "      <th>selected_count</th>\n",
       "      <th>sentiment</th>\n",
       "      <th>awesome</th>\n",
       "      <th>great</th>\n",
       "      <th>fantastic</th>\n",
       "      <th>amazing</th>\n",
       "      <th>love</th>\n",
       "      <th>horrible</th>\n",
       "      <th>bad</th>\n",
       "      <th>terrible</th>\n",
       "      <th>awful</th>\n",
       "      <th>wow</th>\n",
       "      <th>hate</th>\n",
       "    </tr>\n",
       "  </thead>\n",
       "  <tbody>\n",
       "    <tr>\n",
       "      <th>1</th>\n",
       "      <td>{'awesome': 0, 'great': 0, 'fantastic': 0, 'am...</td>\n",
       "      <td>1</td>\n",
       "      <td>0</td>\n",
       "      <td>0</td>\n",
       "      <td>0</td>\n",
       "      <td>0</td>\n",
       "      <td>1</td>\n",
       "      <td>0</td>\n",
       "      <td>0</td>\n",
       "      <td>0</td>\n",
       "      <td>0</td>\n",
       "      <td>0</td>\n",
       "      <td>0</td>\n",
       "    </tr>\n",
       "    <tr>\n",
       "      <th>2</th>\n",
       "      <td>{'awesome': 0, 'great': 0, 'fantastic': 0, 'am...</td>\n",
       "      <td>1</td>\n",
       "      <td>0</td>\n",
       "      <td>0</td>\n",
       "      <td>0</td>\n",
       "      <td>0</td>\n",
       "      <td>0</td>\n",
       "      <td>0</td>\n",
       "      <td>0</td>\n",
       "      <td>0</td>\n",
       "      <td>0</td>\n",
       "      <td>0</td>\n",
       "      <td>0</td>\n",
       "    </tr>\n",
       "    <tr>\n",
       "      <th>3</th>\n",
       "      <td>{'awesome': 0, 'great': 0, 'fantastic': 0, 'am...</td>\n",
       "      <td>1</td>\n",
       "      <td>0</td>\n",
       "      <td>0</td>\n",
       "      <td>0</td>\n",
       "      <td>0</td>\n",
       "      <td>2</td>\n",
       "      <td>0</td>\n",
       "      <td>0</td>\n",
       "      <td>0</td>\n",
       "      <td>0</td>\n",
       "      <td>0</td>\n",
       "      <td>0</td>\n",
       "    </tr>\n",
       "    <tr>\n",
       "      <th>4</th>\n",
       "      <td>{'awesome': 0, 'great': 1, 'fantastic': 0, 'am...</td>\n",
       "      <td>1</td>\n",
       "      <td>0</td>\n",
       "      <td>1</td>\n",
       "      <td>0</td>\n",
       "      <td>0</td>\n",
       "      <td>0</td>\n",
       "      <td>0</td>\n",
       "      <td>0</td>\n",
       "      <td>0</td>\n",
       "      <td>0</td>\n",
       "      <td>0</td>\n",
       "      <td>0</td>\n",
       "    </tr>\n",
       "    <tr>\n",
       "      <th>5</th>\n",
       "      <td>{'awesome': 0, 'great': 1, 'fantastic': 0, 'am...</td>\n",
       "      <td>1</td>\n",
       "      <td>0</td>\n",
       "      <td>1</td>\n",
       "      <td>0</td>\n",
       "      <td>0</td>\n",
       "      <td>0</td>\n",
       "      <td>0</td>\n",
       "      <td>0</td>\n",
       "      <td>0</td>\n",
       "      <td>0</td>\n",
       "      <td>0</td>\n",
       "      <td>0</td>\n",
       "    </tr>\n",
       "  </tbody>\n",
       "</table>\n",
       "</div>"
      ],
      "text/plain": [
       "                                      selected_count  sentiment  awesome  \\\n",
       "1  {'awesome': 0, 'great': 0, 'fantastic': 0, 'am...          1        0   \n",
       "2  {'awesome': 0, 'great': 0, 'fantastic': 0, 'am...          1        0   \n",
       "3  {'awesome': 0, 'great': 0, 'fantastic': 0, 'am...          1        0   \n",
       "4  {'awesome': 0, 'great': 1, 'fantastic': 0, 'am...          1        0   \n",
       "5  {'awesome': 0, 'great': 1, 'fantastic': 0, 'am...          1        0   \n",
       "\n",
       "   great  fantastic  amazing  love  horrible  bad  terrible  awful  wow  hate  \n",
       "1      0          0        0     1         0    0         0      0    0     0  \n",
       "2      0          0        0     0         0    0         0      0    0     0  \n",
       "3      0          0        0     2         0    0         0      0    0     0  \n",
       "4      1          0        0     0         0    0         0      0    0     0  \n",
       "5      1          0        0     0         0    0         0      0    0     0  "
      ]
     },
     "execution_count": 22,
     "metadata": {},
     "output_type": "execute_result"
    }
   ],
   "source": [
    "def vectorize(row, key):\n",
    "    counter = row['selected_count']\n",
    "    return counter[key]\n",
    "   \n",
    "for keyword in selected_words:\n",
    "    p2[keyword] = p2.apply(vectorize, axis=1, key=keyword)\n",
    "    \n",
    "p2.head()"
   ]
  },
  {
   "cell_type": "markdown",
   "id": "7344b6b0",
   "metadata": {},
   "source": [
    "#### Split the data into train and test set"
   ]
  },
  {
   "cell_type": "code",
   "execution_count": 23,
   "id": "ecf65449",
   "metadata": {},
   "outputs": [],
   "source": [
    "train, test = train_test_split(p2, test_size=0.2, random_state=1)"
   ]
  },
  {
   "cell_type": "code",
   "execution_count": 24,
   "id": "a52de74a",
   "metadata": {
    "scrolled": true
   },
   "outputs": [
    {
     "data": {
      "text/plain": [
       "(tensor([[0., 0., 0.,  ..., 0., 0., 0.],\n",
       "         [0., 1., 0.,  ..., 0., 0., 0.],\n",
       "         [0., 0., 0.,  ..., 0., 0., 0.],\n",
       "         ...,\n",
       "         [0., 0., 0.,  ..., 0., 0., 0.],\n",
       "         [0., 0., 0.,  ..., 0., 0., 0.],\n",
       "         [0., 1., 0.,  ..., 0., 0., 0.]]),\n",
       " tensor([[1.],\n",
       "         [1.],\n",
       "         [0.],\n",
       "         ...,\n",
       "         [1.],\n",
       "         [1.],\n",
       "         [1.]]))"
      ]
     },
     "execution_count": 24,
     "metadata": {},
     "output_type": "execute_result"
    }
   ],
   "source": [
    "def df_to_array(dataframe, features, output=['sentiment']):\n",
    "    \"\"\"\n",
    "    Parameters\n",
    "    ----------\n",
    "    dataframe: pandas DataFrame\n",
    "        train or test set\n",
    "    features: list of strings\n",
    "        features used to predict sales price of house\n",
    "    output: list of strings\n",
    "        the observation variable\n",
    "    \"\"\"\n",
    "    df1 = dataframe.copy(deep=True)\n",
    "    inputs_array = df1[features].to_numpy()\n",
    "    targets_array = df1[output].to_numpy()\n",
    "    return inputs_array, targets_array\n",
    "\n",
    "def arr_to_tensor(inputs_array, targets_array):\n",
    "    \"\"\"\n",
    "    Parameters\n",
    "    ----------\n",
    "    inputs_array: numpy array\n",
    "    targets_array: numpy array\n",
    "    \"\"\"\n",
    "    inputs_train = torch.from_numpy(inputs_array).float()\n",
    "    targets_train = torch.from_numpy(targets_array).float()\n",
    "    return inputs_train, targets_train\n",
    "\n",
    "inputs_array, targets_array = df_to_array(train, selected_words)\n",
    "inputs_train, targets_train = arr_to_tensor(inputs_array, targets_array)\n",
    "inputs_train, targets_train"
   ]
  },
  {
   "cell_type": "markdown",
   "id": "b3c50198",
   "metadata": {},
   "source": [
    "#### Initializing the model\n",
    "- Assign some hyper-parameters"
   ]
  },
  {
   "cell_type": "code",
   "execution_count": 25,
   "id": "51d8c6a8",
   "metadata": {},
   "outputs": [],
   "source": [
    "class LogisticRegression(torch.nn.Module):\n",
    "    def __init__(self, input_dim, output_dim):\n",
    "        super(LogisticRegression, self).__init__()\n",
    "        self.linear = torch.nn.Linear(input_dim, output_dim)\n",
    "        \n",
    "    def forward(self, x):\n",
    "        outputs = torch.sigmoid(self.linear(x))\n",
    "        return outputs"
   ]
  },
  {
   "cell_type": "code",
   "execution_count": 55,
   "id": "df97ca8d",
   "metadata": {},
   "outputs": [],
   "source": [
    "num_epochs = 30\n",
    "input_dim = 11\n",
    "output_dim = 1 # Binary output\n",
    "learning_rate = 0.01\n",
    "\n",
    "model = LogisticRegression(input_dim, output_dim)"
   ]
  },
  {
   "cell_type": "markdown",
   "id": "95a0154b",
   "metadata": {},
   "source": [
    "#### Initializing the loss function and the optimizer"
   ]
  },
  {
   "cell_type": "code",
   "execution_count": 56,
   "id": "3cfccb59",
   "metadata": {},
   "outputs": [],
   "source": [
    "criterion = torch.nn.BCELoss() # Binary Cross Entropy Loss\n",
    "optimizer = torch.optim.SGD(model.parameters(), lr=learning_rate)"
   ]
  },
  {
   "cell_type": "markdown",
   "id": "3cf5a6d6",
   "metadata": {},
   "source": [
    "#### Training the model"
   ]
  },
  {
   "cell_type": "code",
   "execution_count": 57,
   "id": "5d09b3e3",
   "metadata": {},
   "outputs": [
    {
     "name": "stdout",
     "output_type": "stream",
     "text": [
      "epoch 0, loss 0.5683707594871521\n",
      "epoch 1, loss 0.5676353573799133\n",
      "epoch 2, loss 0.5669043064117432\n",
      "epoch 3, loss 0.5661774277687073\n",
      "epoch 4, loss 0.5654546022415161\n",
      "epoch 5, loss 0.5647359490394592\n",
      "epoch 6, loss 0.5640214681625366\n",
      "epoch 7, loss 0.5633110404014587\n",
      "epoch 8, loss 0.5626044869422913\n",
      "epoch 9, loss 0.5619021058082581\n",
      "epoch 10, loss 0.5612035989761353\n",
      "epoch 11, loss 0.5605091452598572\n",
      "epoch 12, loss 0.5598185658454895\n",
      "epoch 13, loss 0.5591319799423218\n",
      "epoch 14, loss 0.5584492087364197\n",
      "epoch 15, loss 0.557770311832428\n",
      "epoch 16, loss 0.5570951700210571\n",
      "epoch 17, loss 0.5564239621162415\n",
      "epoch 18, loss 0.5557565093040466\n",
      "epoch 19, loss 0.5550926923751831\n",
      "epoch 20, loss 0.5544328689575195\n",
      "epoch 21, loss 0.5537764430046082\n",
      "epoch 22, loss 0.553123950958252\n",
      "epoch 23, loss 0.552475094795227\n",
      "epoch 24, loss 0.5518298149108887\n",
      "epoch 25, loss 0.551188051700592\n",
      "epoch 26, loss 0.5505500435829163\n",
      "epoch 27, loss 0.5499154925346375\n",
      "epoch 28, loss 0.5492845177650452\n",
      "epoch 29, loss 0.5486570596694946\n"
     ]
    }
   ],
   "source": [
    "def trainModel(model, x_train, y_train, epochs):\n",
    "    for epoch in range(epochs):\n",
    "        # Clear buffer\n",
    "        optimizer.zero_grad()\n",
    "        \n",
    "        y_prediction = model(x_train)\n",
    "        \n",
    "        loss = criterion(y_prediction, y_train)\n",
    "        \n",
    "        loss.backward()\n",
    "        \n",
    "        optimizer.step() # Update weights and biases with the optimizer (SGD)\n",
    "        \n",
    "        print('epoch {}, loss {}'.format(epoch, loss.item()))\n",
    "        \n",
    "        \n",
    "trainModel(model, inputs_train, targets_train, num_epochs)"
   ]
  },
  {
   "cell_type": "markdown",
   "id": "ec43198d",
   "metadata": {},
   "source": [
    "#### Quiz Question 2: \n",
    "Using this approach, sort the learned coefficients according to the 'value' column using .sort(). Out of the 11 words, which one got the most positive weight? Which one got the most negative weight? Do these values make sense?\n",
    "*Save the results to answer the quiz at the end.*"
   ]
  },
  {
   "cell_type": "code",
   "execution_count": 58,
   "id": "5cb4315e",
   "metadata": {
    "scrolled": false
   },
   "outputs": [
    {
     "name": "stdout",
     "output_type": "stream",
     "text": [
      "linear.weight\n",
      "Parameter containing:\n",
      "tensor([[-0.0435,  0.3114, -0.1761, -0.1907,  0.1235, -0.0531, -0.2504, -0.0221,\n",
      "         -0.1623,  0.1119, -0.2531]], requires_grad=True)\n",
      "linear.bias\n",
      "Parameter containing:\n",
      "tensor([0.3641], requires_grad=True)\n"
     ]
    }
   ],
   "source": [
    "for name, param in model.named_parameters():\n",
    "    print(name)\n",
    "    print(param)"
   ]
  },
  {
   "cell_type": "code",
   "execution_count": 59,
   "id": "acf7580e",
   "metadata": {},
   "outputs": [],
   "source": [
    "selected_words = ['awesome', 'great', 'fantastic', 'amazing', 'love', 'horrible', 'bad', 'terrible', 'awful', 'wow', 'hate']"
   ]
  },
  {
   "cell_type": "markdown",
   "id": "c30b82bd",
   "metadata": {},
   "source": [
    "#### Calculate Accuracy\n",
    "What is the accuracy of the selected_words_model on test data?  What was the accuracy of the sentiment_model that we learned using all the word counts in the Jupyter Notebook above from the lectures?  What is the accuracy majority class classifier on this task?  How do you compare the different learned models with the baseline approach where we are just predicting the majority class? *Save these results to answer the quiz at the end.*"
   ]
  },
  {
   "cell_type": "code",
   "execution_count": 60,
   "id": "de3f5f13",
   "metadata": {},
   "outputs": [],
   "source": [
    "x_test_arr, y_test_arr = df_to_array(test, selected_words)\n",
    "x_test, y_test = arr_to_tensor(x_test_arr, y_test_arr)"
   ]
  },
  {
   "cell_type": "code",
   "execution_count": 64,
   "id": "b80d4577",
   "metadata": {},
   "outputs": [
    {
     "name": "stdout",
     "output_type": "stream",
     "text": [
      "0.8398553729057312\n",
      "[[   46  5267]\n",
      " [   49 27833]]\n"
     ]
    }
   ],
   "source": [
    "with torch.no_grad():\n",
    "    y_pred = model(x_test)\n",
    "    y_pred_class = y_pred.round()\n",
    "    accuracy = (y_pred_class.eq(y_test).sum())/float(y_test.shape[0])\n",
    "    print(accuracy.item())\n",
    "    cm = confusion_matrix(y_test, y_pred_class)\n",
    "    print(cm)"
   ]
  },
  {
   "cell_type": "code",
   "execution_count": 62,
   "id": "1d0962d1",
   "metadata": {},
   "outputs": [
    {
     "data": {
      "image/png": "[encoded data removed]",
      "text/plain": [
       "<Figure size 432x288 with 2 Axes>"
      ]
     },
     "metadata": {
      "needs_background": "light"
     },
     "output_type": "display_data"
    }
   ],
   "source": [
    "cfmp = sn.heatmap(cm, annot=True, cmap='Blues')\n",
    "cfmp.set_xlabel('\\nPredicted Values')\n",
    "cfmp.set_ylabel('Actual Values ');\n",
    "\n",
    "plt.show()"
   ]
  },
  {
   "cell_type": "markdown",
   "id": "4af47c6e",
   "metadata": {},
   "source": [
    "## Sources\n",
    "[Logistic Regression with PyTorch](https://towardsdatascience.com/logistic-regression-with-pytorch-3c8bbea594be)\n",
    "\n",
    "[PyTorch Loss Function Cheatsheat](https://github.com/rasbt/stat479-deep-learning-ss19/blob/master/other/pytorch-lossfunc-cheatsheet.md)"
   ]
  },
  {
   "cell_type": "code",
   "execution_count": null,
   "id": "10b8fa2e",
   "metadata": {},
   "outputs": [],
   "source": []
  }
 ],
 "metadata": {
  "kernelspec": {
   "display_name": "venv",
   "language": "python",
   "name": "venv"
  },
  "language_info": {
   "codemirror_mode": {
    "name": "ipython",
    "version": 3
   },
   "file_extension": ".py",
   "mimetype": "text/x-python",
   "name": "python",
   "nbconvert_exporter": "python",
   "pygments_lexer": "ipython3",
   "version": "3.9.5"
  }
 },
 "nbformat": 4,
 "nbformat_minor": 5
}
