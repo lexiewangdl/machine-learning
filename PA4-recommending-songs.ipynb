{
 "cells": [
  {
   "cell_type": "markdown",
   "id": "5097ec56",
   "metadata": {},
   "source": [
    "# Assignment 5: Recommending Songs\n",
    "\n",
    "### Load music data"
   ]
  },
  {
   "cell_type": "code",
   "execution_count": 3,
   "id": "8d713e06",
   "metadata": {},
   "outputs": [],
   "source": [
    "import pandas as pd\n",
    "from collections import Counter\n",
    "from sklearn.model_selection import train_test_split"
   ]
  },
  {
   "cell_type": "code",
   "execution_count": 4,
   "id": "541eaa0b",
   "metadata": {},
   "outputs": [
    {
     "data": {
      "text/html": [
       "<div>\n",
       "<style scoped>\n",
       "    .dataframe tbody tr th:only-of-type {\n",
       "        vertical-align: middle;\n",
       "    }\n",
       "\n",
       "    .dataframe tbody tr th {\n",
       "        vertical-align: top;\n",
       "    }\n",
       "\n",
       "    .dataframe thead th {\n",
       "        text-align: right;\n",
       "    }\n",
       "</style>\n",
       "<table border=\"1\" class=\"dataframe\">\n",
       "  <thead>\n",
       "    <tr style=\"text-align: right;\">\n",
       "      <th></th>\n",
       "      <th>user_id</th>\n",
       "      <th>song_id</th>\n",
       "      <th>listen_count</th>\n",
       "      <th>title</th>\n",
       "      <th>artist</th>\n",
       "      <th>song</th>\n",
       "    </tr>\n",
       "  </thead>\n",
       "  <tbody>\n",
       "    <tr>\n",
       "      <th>0</th>\n",
       "      <td>b80344d063b5ccb3212f76538f3d9e43d87dca9e</td>\n",
       "      <td>SOAKIMP12A8C130995</td>\n",
       "      <td>1</td>\n",
       "      <td>The Cove</td>\n",
       "      <td>Jack Johnson</td>\n",
       "      <td>The Cove - Jack Johnson</td>\n",
       "    </tr>\n",
       "    <tr>\n",
       "      <th>1</th>\n",
       "      <td>b80344d063b5ccb3212f76538f3d9e43d87dca9e</td>\n",
       "      <td>SOBBMDR12A8C13253B</td>\n",
       "      <td>2</td>\n",
       "      <td>Entre Dos Aguas</td>\n",
       "      <td>Paco De Lucia</td>\n",
       "      <td>Entre Dos Aguas - Paco De Lucia</td>\n",
       "    </tr>\n",
       "    <tr>\n",
       "      <th>2</th>\n",
       "      <td>b80344d063b5ccb3212f76538f3d9e43d87dca9e</td>\n",
       "      <td>SOBXHDL12A81C204C0</td>\n",
       "      <td>1</td>\n",
       "      <td>Stronger</td>\n",
       "      <td>Kanye West</td>\n",
       "      <td>Stronger - Kanye West</td>\n",
       "    </tr>\n",
       "    <tr>\n",
       "      <th>3</th>\n",
       "      <td>b80344d063b5ccb3212f76538f3d9e43d87dca9e</td>\n",
       "      <td>SOBYHAJ12A6701BF1D</td>\n",
       "      <td>1</td>\n",
       "      <td>Constellations</td>\n",
       "      <td>Jack Johnson</td>\n",
       "      <td>Constellations - Jack Johnson</td>\n",
       "    </tr>\n",
       "    <tr>\n",
       "      <th>4</th>\n",
       "      <td>b80344d063b5ccb3212f76538f3d9e43d87dca9e</td>\n",
       "      <td>SODACBL12A8C13C273</td>\n",
       "      <td>1</td>\n",
       "      <td>Learn To Fly</td>\n",
       "      <td>Foo Fighters</td>\n",
       "      <td>Learn To Fly - Foo Fighters</td>\n",
       "    </tr>\n",
       "  </tbody>\n",
       "</table>\n",
       "</div>"
      ],
      "text/plain": [
       "                                    user_id             song_id  listen_count  \\\n",
       "0  b80344d063b5ccb3212f76538f3d9e43d87dca9e  SOAKIMP12A8C130995             1   \n",
       "1  b80344d063b5ccb3212f76538f3d9e43d87dca9e  SOBBMDR12A8C13253B             2   \n",
       "2  b80344d063b5ccb3212f76538f3d9e43d87dca9e  SOBXHDL12A81C204C0             1   \n",
       "3  b80344d063b5ccb3212f76538f3d9e43d87dca9e  SOBYHAJ12A6701BF1D             1   \n",
       "4  b80344d063b5ccb3212f76538f3d9e43d87dca9e  SODACBL12A8C13C273             1   \n",
       "\n",
       "             title         artist                             song  \n",
       "0         The Cove   Jack Johnson          The Cove - Jack Johnson  \n",
       "1  Entre Dos Aguas  Paco De Lucia  Entre Dos Aguas - Paco De Lucia  \n",
       "2         Stronger     Kanye West            Stronger - Kanye West  \n",
       "3   Constellations   Jack Johnson    Constellations - Jack Johnson  \n",
       "4     Learn To Fly   Foo Fighters      Learn To Fly - Foo Fighters  "
      ]
     },
     "execution_count": 4,
     "metadata": {},
     "output_type": "execute_result"
    }
   ],
   "source": [
    "df = pd.read_csv(\"data/song_data.csv\")\n",
    "df.head()"
   ]
  },
  {
   "cell_type": "markdown",
   "id": "0f6b2e98",
   "metadata": {},
   "source": [
    "## Task 1: Count number of users\n",
    "Counting unique users: In this question, you will compute the number of unique users who have listened to songs by various artists.  For example, to find out the number of unique users who listened to songs by 'Kanye West', all you need to do is select the rows of the song data where the artist is 'Kanye West', and then count the number of unique entries in the ‘user_id’ column.  Compute the number of unique users for each of these artists:  'Kanye West', 'Foo Fighters', 'Taylor Swift' and 'Lady GaGa'.  \n",
    "\n",
    "*Save these results to answer the quiz at the end.*"
   ]
  },
  {
   "cell_type": "code",
   "execution_count": 17,
   "id": "f39ec3e5",
   "metadata": {},
   "outputs": [
    {
     "name": "stdout",
     "output_type": "stream",
     "text": [
      "66346\n"
     ]
    }
   ],
   "source": [
    "c = df['user_id'].value_counts(sort=True, ascending=False)\n",
    "num_users = len(c)\n",
    "print(num_users) # Number of unique users in this dataset"
   ]
  },
  {
   "cell_type": "code",
   "execution_count": 22,
   "id": "ce98c897",
   "metadata": {
    "scrolled": true
   },
   "outputs": [
    {
     "name": "stdout",
     "output_type": "stream",
     "text": [
      "Kanye West 2522\n",
      "Foo Fighters 2055\n",
      "Taylor Swift 3246\n",
      "Lady GaGa 2928\n"
     ]
    }
   ],
   "source": [
    "def count_uniq_user_by_artist(artist_name, dataframe=df):\n",
    "    d = dataframe.loc[dataframe['artist'] == artist_name]\n",
    "    num_users = len(d['user_id'].value_counts(sort=True))\n",
    "    return num_users\n",
    "\n",
    "artists = ['Kanye West', 'Foo Fighters', 'Taylor Swift', 'Lady GaGa']\n",
    "for artist in artists:\n",
    "    print(artist + ' ' + str(count_uniq_user_by_artist(artist)))"
   ]
  },
  {
   "cell_type": "markdown",
   "id": "b0673c79",
   "metadata": {},
   "source": [
    "## Task 2: Find the most popular and least popular artist\n",
    "Using groupby-aggregate to find the most popular and least popular artist:  each row of song_data contains the number of times a user listened to particular song by a particular artist.  If we would like to know how many times any song by 'Kanye West' was listened to, we need to select all the rows where ‘artist’=='Kanye West' and sum the ‘listen_count’ column.  If we would like to find the most popular artist, we would need to follow this procedure for each artist, which would be very slow.  Instead, you will learn about a very important method: <code>.groupby()</code>\n",
    "\n",
    "For more information on groupby-aggregate, see [this page](https://zhuanlan.zhihu.com/p/101284491).\n",
    "\n",
    "Sort the resulting dataframe according to the ‘total_count’, and find the artist with the most popular and least popular artist in the dataset.  *Save these results to answer the quiz at the end.*"
   ]
  },
  {
   "cell_type": "code",
   "execution_count": 17,
   "id": "6c5a2c22",
   "metadata": {},
   "outputs": [
    {
     "data": {
      "text/html": [
       "<div>\n",
       "<style scoped>\n",
       "    .dataframe tbody tr th:only-of-type {\n",
       "        vertical-align: middle;\n",
       "    }\n",
       "\n",
       "    .dataframe tbody tr th {\n",
       "        vertical-align: top;\n",
       "    }\n",
       "\n",
       "    .dataframe thead th {\n",
       "        text-align: right;\n",
       "    }\n",
       "</style>\n",
       "<table border=\"1\" class=\"dataframe\">\n",
       "  <thead>\n",
       "    <tr style=\"text-align: right;\">\n",
       "      <th></th>\n",
       "      <th>listen_count</th>\n",
       "    </tr>\n",
       "    <tr>\n",
       "      <th>artist</th>\n",
       "      <th></th>\n",
       "    </tr>\n",
       "  </thead>\n",
       "  <tbody>\n",
       "    <tr>\n",
       "      <th>Kings Of Leon</th>\n",
       "      <td>43218</td>\n",
       "    </tr>\n",
       "    <tr>\n",
       "      <th>Dwight Yoakam</th>\n",
       "      <td>40619</td>\n",
       "    </tr>\n",
       "    <tr>\n",
       "      <th>Björk</th>\n",
       "      <td>38889</td>\n",
       "    </tr>\n",
       "    <tr>\n",
       "      <th>Coldplay</th>\n",
       "      <td>35362</td>\n",
       "    </tr>\n",
       "    <tr>\n",
       "      <th>Florence + The Machine</th>\n",
       "      <td>33387</td>\n",
       "    </tr>\n",
       "    <tr>\n",
       "      <th>...</th>\n",
       "      <td>...</td>\n",
       "    </tr>\n",
       "    <tr>\n",
       "      <th>Boggle Karaoke</th>\n",
       "      <td>30</td>\n",
       "    </tr>\n",
       "    <tr>\n",
       "      <th>Diplo</th>\n",
       "      <td>30</td>\n",
       "    </tr>\n",
       "    <tr>\n",
       "      <th>Beyoncé feat. Bun B and Slim Thug</th>\n",
       "      <td>26</td>\n",
       "    </tr>\n",
       "    <tr>\n",
       "      <th>Reel Feelings</th>\n",
       "      <td>24</td>\n",
       "    </tr>\n",
       "    <tr>\n",
       "      <th>William Tabbert</th>\n",
       "      <td>14</td>\n",
       "    </tr>\n",
       "  </tbody>\n",
       "</table>\n",
       "<p>3375 rows × 1 columns</p>\n",
       "</div>"
      ],
      "text/plain": [
       "                                   listen_count\n",
       "artist                                         \n",
       "Kings Of Leon                             43218\n",
       "Dwight Yoakam                             40619\n",
       "Björk                                     38889\n",
       "Coldplay                                  35362\n",
       "Florence + The Machine                    33387\n",
       "...                                         ...\n",
       "Boggle Karaoke                               30\n",
       "Diplo                                        30\n",
       "Beyoncé feat. Bun B and Slim Thug            26\n",
       "Reel Feelings                                24\n",
       "William Tabbert                              14\n",
       "\n",
       "[3375 rows x 1 columns]"
      ]
     },
     "execution_count": 17,
     "metadata": {},
     "output_type": "execute_result"
    }
   ],
   "source": [
    "pop = df[['listen_count', 'artist']]\n",
    "gp_df = pop.groupby('artist').agg('sum')\n",
    "gp_df.sort_values(by=['listen_count'], ascending=False) \n",
    "# The most popular artist is Kings of Leon, and the least popular artist is William Tabbert"
   ]
  },
  {
   "cell_type": "markdown",
   "id": "b72dbac4",
   "metadata": {},
   "source": [
    "## Song Recommender\n",
    "\n",
    "#### Split the data into train and test sets"
   ]
  },
  {
   "cell_type": "code",
   "execution_count": 16,
   "id": "cbdc2443",
   "metadata": {},
   "outputs": [],
   "source": [
    "train, test = train_test_split(df, test_size=0.2, random_state=1)"
   ]
  },
  {
   "cell_type": "markdown",
   "id": "63f163e2",
   "metadata": {},
   "source": [
    "### Model 1: Simple popularity-based recommender\n",
    "> It is a type of recommendation system which works on the principle of popularity and or anything which is in trend. These systems check about the product or movie which are in trend or are most popular among the users and directly recommend those.\n",
    "\n",
    "##### Advantages\n",
    "- Does not suffer from cold start problems. On day 1, still can recommend products on various filters.\n",
    "- No need for user's historical data.\n",
    "\n",
    "##### Disadvantages\n",
    "- Not personalized\n",
    "- The system would recommend the same sort of products/movies which are solely based upon popularity to every other user.\n",
    "\n",
    "For more information, see [this page](https://www.analyticssteps.com/blogs/what-are-recommendation-systems-machine-learning).\n",
    "\n",
    "### Model 2: Personalized recommender: Item similarity recommender\n"
   ]
  },
  {
   "cell_type": "markdown",
   "id": "bb860d81",
   "metadata": {},
   "source": [
    "## Assignment: Recommending songs\n",
    "In this assignment, we are going to explore the song data and the recommendations made by our model. "
   ]
  },
  {
   "cell_type": "markdown",
   "id": "0a5190b0",
   "metadata": {},
   "source": [
    "## Sources\n",
    "[Precision and Recall - Calculation](https://machinelearningmastery.com/precision-recall-and-f-measure-for-imbalanced-classification/#:~:text=Recall%20for%20Binary%20Classification,true%20positives%20and%20false%20negatives.&text=The%20result%20is%20a%20value%20between%200.0%20for%20no%20recall,for%20full%20or%20perfect%20recall.)"
   ]
  },
  {
   "cell_type": "code",
   "execution_count": null,
   "id": "8fb9d0e4",
   "metadata": {},
   "outputs": [],
   "source": []
  }
 ],
 "metadata": {
  "kernelspec": {
   "display_name": "venv",
   "language": "python",
   "name": "venv"
  },
  "language_info": {
   "codemirror_mode": {
    "name": "ipython",
    "version": 3
   },
   "file_extension": ".py",
   "mimetype": "text/x-python",
   "name": "python",
   "nbconvert_exporter": "python",
   "pygments_lexer": "ipython3",
   "version": "3.9.5"
  }
 },
 "nbformat": 4,
 "nbformat_minor": 5
}
